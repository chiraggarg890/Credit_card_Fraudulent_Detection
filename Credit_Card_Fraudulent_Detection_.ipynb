{
  "nbformat": 4,
  "nbformat_minor": 0,
  "metadata": {
    "colab": {
      "provenance": [],
      "authorship_tag": "ABX9TyNMlBdqQqznCabCWFo3MxFp",
      "include_colab_link": true
    },
    "kernelspec": {
      "name": "python3",
      "display_name": "Python 3"
    },
    "language_info": {
      "name": "python"
    }
  },
  "cells": [
    {
      "cell_type": "markdown",
      "metadata": {
        "id": "view-in-github",
        "colab_type": "text"
      },
      "source": [
        "<a href=\"https://colab.research.google.com/github/chiraggarg890/Credit_card_Fraudulent_Detection/blob/main/Credit_Card_Fraudulent_Detection_.ipynb\" target=\"_parent\"><img src=\"https://colab.research.google.com/assets/colab-badge.svg\" alt=\"Open In Colab\"/></a>"
      ]
    },
    {
      "cell_type": "markdown",
      "source": [
        "Importing the Dependencies (libraries and functions which we need for our program)"
      ],
      "metadata": {
        "id": "vgowfclEZqPE"
      }
    },
    {
      "cell_type": "code",
      "execution_count": 1,
      "metadata": {
        "id": "NrDQJ7JjVWyp"
      },
      "outputs": [],
      "source": [
        "import numpy as np\n",
        "import pandas as pd     # used to make data frames( data is in the form of structured Rows and Columns)\n",
        "from sklearn.model_selection import train_test_split\n",
        "from sklearn.linear_model import LogisticRegression\n",
        "from sklearn.metrics import accuracy_score"
      ]
    },
    {
      "cell_type": "code",
      "source": [
        "# loading the dataset into Pandas DataFrame\n",
        "credit_card_data=pd.read_csv('/content/creditcard.csv')\n"
      ],
      "metadata": {
        "id": "Jww8UPuebj06"
      },
      "execution_count": 3,
      "outputs": []
    },
    {
      "cell_type": "code",
      "source": [
        "# first 5 rows of the dataset\n",
        "credit_card_data.head()"
      ],
      "metadata": {
        "colab": {
          "base_uri": "https://localhost:8080/",
          "height": 299
        },
        "id": "QIGDtnAscAfd",
        "outputId": "ef9e14ac-dd2f-49ec-d51f-5f738708c4b9"
      },
      "execution_count": 4,
      "outputs": [
        {
          "output_type": "execute_result",
          "data": {
            "text/plain": [
              "   Time        V1        V2        V3        V4        V5        V6        V7  \\\n",
              "0     0 -1.359807 -0.072781  2.536347  1.378155 -0.338321  0.462388  0.239599   \n",
              "1     0  1.191857  0.266151  0.166480  0.448154  0.060018 -0.082361 -0.078803   \n",
              "2     1 -1.358354 -1.340163  1.773209  0.379780 -0.503198  1.800499  0.791461   \n",
              "3     1 -0.966272 -0.185226  1.792993 -0.863291 -0.010309  1.247203  0.237609   \n",
              "4     2 -1.158233  0.877737  1.548718  0.403034 -0.407193  0.095921  0.592941   \n",
              "\n",
              "         V8        V9  ...       V21       V22       V23       V24       V25  \\\n",
              "0  0.098698  0.363787  ... -0.018307  0.277838 -0.110474  0.066928  0.128539   \n",
              "1  0.085102 -0.255425  ... -0.225775 -0.638672  0.101288 -0.339846  0.167170   \n",
              "2  0.247676 -1.514654  ...  0.247998  0.771679  0.909412 -0.689281 -0.327642   \n",
              "3  0.377436 -1.387024  ... -0.108300  0.005274 -0.190321 -1.175575  0.647376   \n",
              "4 -0.270533  0.817739  ... -0.009431  0.798278 -0.137458  0.141267 -0.206010   \n",
              "\n",
              "        V26       V27       V28  Amount  Class  \n",
              "0 -0.189115  0.133558 -0.021053  149.62    0.0  \n",
              "1  0.125895 -0.008983  0.014724    2.69    0.0  \n",
              "2 -0.139097 -0.055353 -0.059752  378.66    0.0  \n",
              "3 -0.221929  0.062723  0.061458  123.50    0.0  \n",
              "4  0.502292  0.219422  0.215153   69.99    0.0  \n",
              "\n",
              "[5 rows x 31 columns]"
            ],
            "text/html": [
              "\n",
              "  <div id=\"df-4b7caacc-aac1-437a-9eaf-cb139f3c2031\">\n",
              "    <div class=\"colab-df-container\">\n",
              "      <div>\n",
              "<style scoped>\n",
              "    .dataframe tbody tr th:only-of-type {\n",
              "        vertical-align: middle;\n",
              "    }\n",
              "\n",
              "    .dataframe tbody tr th {\n",
              "        vertical-align: top;\n",
              "    }\n",
              "\n",
              "    .dataframe thead th {\n",
              "        text-align: right;\n",
              "    }\n",
              "</style>\n",
              "<table border=\"1\" class=\"dataframe\">\n",
              "  <thead>\n",
              "    <tr style=\"text-align: right;\">\n",
              "      <th></th>\n",
              "      <th>Time</th>\n",
              "      <th>V1</th>\n",
              "      <th>V2</th>\n",
              "      <th>V3</th>\n",
              "      <th>V4</th>\n",
              "      <th>V5</th>\n",
              "      <th>V6</th>\n",
              "      <th>V7</th>\n",
              "      <th>V8</th>\n",
              "      <th>V9</th>\n",
              "      <th>...</th>\n",
              "      <th>V21</th>\n",
              "      <th>V22</th>\n",
              "      <th>V23</th>\n",
              "      <th>V24</th>\n",
              "      <th>V25</th>\n",
              "      <th>V26</th>\n",
              "      <th>V27</th>\n",
              "      <th>V28</th>\n",
              "      <th>Amount</th>\n",
              "      <th>Class</th>\n",
              "    </tr>\n",
              "  </thead>\n",
              "  <tbody>\n",
              "    <tr>\n",
              "      <th>0</th>\n",
              "      <td>0</td>\n",
              "      <td>-1.359807</td>\n",
              "      <td>-0.072781</td>\n",
              "      <td>2.536347</td>\n",
              "      <td>1.378155</td>\n",
              "      <td>-0.338321</td>\n",
              "      <td>0.462388</td>\n",
              "      <td>0.239599</td>\n",
              "      <td>0.098698</td>\n",
              "      <td>0.363787</td>\n",
              "      <td>...</td>\n",
              "      <td>-0.018307</td>\n",
              "      <td>0.277838</td>\n",
              "      <td>-0.110474</td>\n",
              "      <td>0.066928</td>\n",
              "      <td>0.128539</td>\n",
              "      <td>-0.189115</td>\n",
              "      <td>0.133558</td>\n",
              "      <td>-0.021053</td>\n",
              "      <td>149.62</td>\n",
              "      <td>0.0</td>\n",
              "    </tr>\n",
              "    <tr>\n",
              "      <th>1</th>\n",
              "      <td>0</td>\n",
              "      <td>1.191857</td>\n",
              "      <td>0.266151</td>\n",
              "      <td>0.166480</td>\n",
              "      <td>0.448154</td>\n",
              "      <td>0.060018</td>\n",
              "      <td>-0.082361</td>\n",
              "      <td>-0.078803</td>\n",
              "      <td>0.085102</td>\n",
              "      <td>-0.255425</td>\n",
              "      <td>...</td>\n",
              "      <td>-0.225775</td>\n",
              "      <td>-0.638672</td>\n",
              "      <td>0.101288</td>\n",
              "      <td>-0.339846</td>\n",
              "      <td>0.167170</td>\n",
              "      <td>0.125895</td>\n",
              "      <td>-0.008983</td>\n",
              "      <td>0.014724</td>\n",
              "      <td>2.69</td>\n",
              "      <td>0.0</td>\n",
              "    </tr>\n",
              "    <tr>\n",
              "      <th>2</th>\n",
              "      <td>1</td>\n",
              "      <td>-1.358354</td>\n",
              "      <td>-1.340163</td>\n",
              "      <td>1.773209</td>\n",
              "      <td>0.379780</td>\n",
              "      <td>-0.503198</td>\n",
              "      <td>1.800499</td>\n",
              "      <td>0.791461</td>\n",
              "      <td>0.247676</td>\n",
              "      <td>-1.514654</td>\n",
              "      <td>...</td>\n",
              "      <td>0.247998</td>\n",
              "      <td>0.771679</td>\n",
              "      <td>0.909412</td>\n",
              "      <td>-0.689281</td>\n",
              "      <td>-0.327642</td>\n",
              "      <td>-0.139097</td>\n",
              "      <td>-0.055353</td>\n",
              "      <td>-0.059752</td>\n",
              "      <td>378.66</td>\n",
              "      <td>0.0</td>\n",
              "    </tr>\n",
              "    <tr>\n",
              "      <th>3</th>\n",
              "      <td>1</td>\n",
              "      <td>-0.966272</td>\n",
              "      <td>-0.185226</td>\n",
              "      <td>1.792993</td>\n",
              "      <td>-0.863291</td>\n",
              "      <td>-0.010309</td>\n",
              "      <td>1.247203</td>\n",
              "      <td>0.237609</td>\n",
              "      <td>0.377436</td>\n",
              "      <td>-1.387024</td>\n",
              "      <td>...</td>\n",
              "      <td>-0.108300</td>\n",
              "      <td>0.005274</td>\n",
              "      <td>-0.190321</td>\n",
              "      <td>-1.175575</td>\n",
              "      <td>0.647376</td>\n",
              "      <td>-0.221929</td>\n",
              "      <td>0.062723</td>\n",
              "      <td>0.061458</td>\n",
              "      <td>123.50</td>\n",
              "      <td>0.0</td>\n",
              "    </tr>\n",
              "    <tr>\n",
              "      <th>4</th>\n",
              "      <td>2</td>\n",
              "      <td>-1.158233</td>\n",
              "      <td>0.877737</td>\n",
              "      <td>1.548718</td>\n",
              "      <td>0.403034</td>\n",
              "      <td>-0.407193</td>\n",
              "      <td>0.095921</td>\n",
              "      <td>0.592941</td>\n",
              "      <td>-0.270533</td>\n",
              "      <td>0.817739</td>\n",
              "      <td>...</td>\n",
              "      <td>-0.009431</td>\n",
              "      <td>0.798278</td>\n",
              "      <td>-0.137458</td>\n",
              "      <td>0.141267</td>\n",
              "      <td>-0.206010</td>\n",
              "      <td>0.502292</td>\n",
              "      <td>0.219422</td>\n",
              "      <td>0.215153</td>\n",
              "      <td>69.99</td>\n",
              "      <td>0.0</td>\n",
              "    </tr>\n",
              "  </tbody>\n",
              "</table>\n",
              "<p>5 rows × 31 columns</p>\n",
              "</div>\n",
              "      <button class=\"colab-df-convert\" onclick=\"convertToInteractive('df-4b7caacc-aac1-437a-9eaf-cb139f3c2031')\"\n",
              "              title=\"Convert this dataframe to an interactive table.\"\n",
              "              style=\"display:none;\">\n",
              "        \n",
              "  <svg xmlns=\"http://www.w3.org/2000/svg\" height=\"24px\"viewBox=\"0 0 24 24\"\n",
              "       width=\"24px\">\n",
              "    <path d=\"M0 0h24v24H0V0z\" fill=\"none\"/>\n",
              "    <path d=\"M18.56 5.44l.94 2.06.94-2.06 2.06-.94-2.06-.94-.94-2.06-.94 2.06-2.06.94zm-11 1L8.5 8.5l.94-2.06 2.06-.94-2.06-.94L8.5 2.5l-.94 2.06-2.06.94zm10 10l.94 2.06.94-2.06 2.06-.94-2.06-.94-.94-2.06-.94 2.06-2.06.94z\"/><path d=\"M17.41 7.96l-1.37-1.37c-.4-.4-.92-.59-1.43-.59-.52 0-1.04.2-1.43.59L10.3 9.45l-7.72 7.72c-.78.78-.78 2.05 0 2.83L4 21.41c.39.39.9.59 1.41.59.51 0 1.02-.2 1.41-.59l7.78-7.78 2.81-2.81c.8-.78.8-2.07 0-2.86zM5.41 20L4 18.59l7.72-7.72 1.47 1.35L5.41 20z\"/>\n",
              "  </svg>\n",
              "      </button>\n",
              "      \n",
              "  <style>\n",
              "    .colab-df-container {\n",
              "      display:flex;\n",
              "      flex-wrap:wrap;\n",
              "      gap: 12px;\n",
              "    }\n",
              "\n",
              "    .colab-df-convert {\n",
              "      background-color: #E8F0FE;\n",
              "      border: none;\n",
              "      border-radius: 50%;\n",
              "      cursor: pointer;\n",
              "      display: none;\n",
              "      fill: #1967D2;\n",
              "      height: 32px;\n",
              "      padding: 0 0 0 0;\n",
              "      width: 32px;\n",
              "    }\n",
              "\n",
              "    .colab-df-convert:hover {\n",
              "      background-color: #E2EBFA;\n",
              "      box-shadow: 0px 1px 2px rgba(60, 64, 67, 0.3), 0px 1px 3px 1px rgba(60, 64, 67, 0.15);\n",
              "      fill: #174EA6;\n",
              "    }\n",
              "\n",
              "    [theme=dark] .colab-df-convert {\n",
              "      background-color: #3B4455;\n",
              "      fill: #D2E3FC;\n",
              "    }\n",
              "\n",
              "    [theme=dark] .colab-df-convert:hover {\n",
              "      background-color: #434B5C;\n",
              "      box-shadow: 0px 1px 3px 1px rgba(0, 0, 0, 0.15);\n",
              "      filter: drop-shadow(0px 1px 2px rgba(0, 0, 0, 0.3));\n",
              "      fill: #FFFFFF;\n",
              "    }\n",
              "  </style>\n",
              "\n",
              "      <script>\n",
              "        const buttonEl =\n",
              "          document.querySelector('#df-4b7caacc-aac1-437a-9eaf-cb139f3c2031 button.colab-df-convert');\n",
              "        buttonEl.style.display =\n",
              "          google.colab.kernel.accessAllowed ? 'block' : 'none';\n",
              "\n",
              "        async function convertToInteractive(key) {\n",
              "          const element = document.querySelector('#df-4b7caacc-aac1-437a-9eaf-cb139f3c2031');\n",
              "          const dataTable =\n",
              "            await google.colab.kernel.invokeFunction('convertToInteractive',\n",
              "                                                     [key], {});\n",
              "          if (!dataTable) return;\n",
              "\n",
              "          const docLinkHtml = 'Like what you see? Visit the ' +\n",
              "            '<a target=\"_blank\" href=https://colab.research.google.com/notebooks/data_table.ipynb>data table notebook</a>'\n",
              "            + ' to learn more about interactive tables.';\n",
              "          element.innerHTML = '';\n",
              "          dataTable['output_type'] = 'display_data';\n",
              "          await google.colab.output.renderOutput(dataTable, element);\n",
              "          const docLink = document.createElement('div');\n",
              "          docLink.innerHTML = docLinkHtml;\n",
              "          element.appendChild(docLink);\n",
              "        }\n",
              "      </script>\n",
              "    </div>\n",
              "  </div>\n",
              "  "
            ]
          },
          "metadata": {},
          "execution_count": 4
        }
      ]
    },
    {
      "cell_type": "markdown",
      "source": [
        "Here time means time elapsed in seconds from the first transaction. v1,v2 etc are the various features (Credit Card Data is sensitive so here the dataset provider has converted the features into numerical values through PCA and provided us with numerical values ) and amount represents the amount for which the transaction was made and class =0 means legit and class =1 means fraud."
      ],
      "metadata": {
        "id": "meN7HY5acn-4"
      }
    },
    {
      "cell_type": "code",
      "source": [
        "# last 5 rows of the dataset\n",
        "credit_card_data.tail()\n"
      ],
      "metadata": {
        "colab": {
          "base_uri": "https://localhost:8080/",
          "height": 299
        },
        "id": "WR3i1Z4Dcf7m",
        "outputId": "9ecb0ff7-97dc-4495-c697-704122b27f17"
      },
      "execution_count": 5,
      "outputs": [
        {
          "output_type": "execute_result",
          "data": {
            "text/plain": [
              "        Time        V1        V2        V3        V4        V5        V6  \\\n",
              "45641  42436 -2.481639 -2.439949  0.363642  1.216827  2.572442 -1.264220   \n",
              "45642  42436  1.223475  0.014944  0.471312 -0.038410 -0.566793 -0.867970   \n",
              "45643  42436  1.258657  0.421016  0.325437  0.684259 -0.292529 -1.052786   \n",
              "45644  42437 -0.500147  1.000770  1.809639 -0.114551  0.333865 -0.577076   \n",
              "45645  42437 -0.652459  0.177290  1.955607 -1.879724 -0.368457       NaN   \n",
              "\n",
              "             V7        V8        V9  ...       V21       V22       V23  \\\n",
              "45641 -0.443652  0.075853  0.073188  ... -0.039426  0.480591  1.779358   \n",
              "45642 -0.058213 -0.144080  0.164904  ... -0.053292 -0.093680  0.106348   \n",
              "45643  0.145228 -0.253567 -0.100521  ... -0.278029 -0.757417  0.119613   \n",
              "45644  1.062325 -0.513050 -0.048285  ... -0.193814 -0.161410  0.036965   \n",
              "45645       NaN       NaN       NaN  ...       NaN       NaN       NaN   \n",
              "\n",
              "            V24       V25       V26       V27       V28  Amount  Class  \n",
              "45641 -0.756700 -0.161099  0.685617  0.223071  0.139619    0.00    0.0  \n",
              "45642  0.471407  0.135555  0.968336 -0.065171  0.005184    7.49    0.0  \n",
              "45643  0.369393  0.246145  0.091553 -0.017156  0.032557    0.89    0.0  \n",
              "45644  0.400154 -0.802486 -0.076097 -0.214317 -0.229160    2.69    0.0  \n",
              "45645       NaN       NaN       NaN       NaN       NaN     NaN    NaN  \n",
              "\n",
              "[5 rows x 31 columns]"
            ],
            "text/html": [
              "\n",
              "  <div id=\"df-11e58390-46d9-4a14-85ea-2ddbba119609\">\n",
              "    <div class=\"colab-df-container\">\n",
              "      <div>\n",
              "<style scoped>\n",
              "    .dataframe tbody tr th:only-of-type {\n",
              "        vertical-align: middle;\n",
              "    }\n",
              "\n",
              "    .dataframe tbody tr th {\n",
              "        vertical-align: top;\n",
              "    }\n",
              "\n",
              "    .dataframe thead th {\n",
              "        text-align: right;\n",
              "    }\n",
              "</style>\n",
              "<table border=\"1\" class=\"dataframe\">\n",
              "  <thead>\n",
              "    <tr style=\"text-align: right;\">\n",
              "      <th></th>\n",
              "      <th>Time</th>\n",
              "      <th>V1</th>\n",
              "      <th>V2</th>\n",
              "      <th>V3</th>\n",
              "      <th>V4</th>\n",
              "      <th>V5</th>\n",
              "      <th>V6</th>\n",
              "      <th>V7</th>\n",
              "      <th>V8</th>\n",
              "      <th>V9</th>\n",
              "      <th>...</th>\n",
              "      <th>V21</th>\n",
              "      <th>V22</th>\n",
              "      <th>V23</th>\n",
              "      <th>V24</th>\n",
              "      <th>V25</th>\n",
              "      <th>V26</th>\n",
              "      <th>V27</th>\n",
              "      <th>V28</th>\n",
              "      <th>Amount</th>\n",
              "      <th>Class</th>\n",
              "    </tr>\n",
              "  </thead>\n",
              "  <tbody>\n",
              "    <tr>\n",
              "      <th>45641</th>\n",
              "      <td>42436</td>\n",
              "      <td>-2.481639</td>\n",
              "      <td>-2.439949</td>\n",
              "      <td>0.363642</td>\n",
              "      <td>1.216827</td>\n",
              "      <td>2.572442</td>\n",
              "      <td>-1.264220</td>\n",
              "      <td>-0.443652</td>\n",
              "      <td>0.075853</td>\n",
              "      <td>0.073188</td>\n",
              "      <td>...</td>\n",
              "      <td>-0.039426</td>\n",
              "      <td>0.480591</td>\n",
              "      <td>1.779358</td>\n",
              "      <td>-0.756700</td>\n",
              "      <td>-0.161099</td>\n",
              "      <td>0.685617</td>\n",
              "      <td>0.223071</td>\n",
              "      <td>0.139619</td>\n",
              "      <td>0.00</td>\n",
              "      <td>0.0</td>\n",
              "    </tr>\n",
              "    <tr>\n",
              "      <th>45642</th>\n",
              "      <td>42436</td>\n",
              "      <td>1.223475</td>\n",
              "      <td>0.014944</td>\n",
              "      <td>0.471312</td>\n",
              "      <td>-0.038410</td>\n",
              "      <td>-0.566793</td>\n",
              "      <td>-0.867970</td>\n",
              "      <td>-0.058213</td>\n",
              "      <td>-0.144080</td>\n",
              "      <td>0.164904</td>\n",
              "      <td>...</td>\n",
              "      <td>-0.053292</td>\n",
              "      <td>-0.093680</td>\n",
              "      <td>0.106348</td>\n",
              "      <td>0.471407</td>\n",
              "      <td>0.135555</td>\n",
              "      <td>0.968336</td>\n",
              "      <td>-0.065171</td>\n",
              "      <td>0.005184</td>\n",
              "      <td>7.49</td>\n",
              "      <td>0.0</td>\n",
              "    </tr>\n",
              "    <tr>\n",
              "      <th>45643</th>\n",
              "      <td>42436</td>\n",
              "      <td>1.258657</td>\n",
              "      <td>0.421016</td>\n",
              "      <td>0.325437</td>\n",
              "      <td>0.684259</td>\n",
              "      <td>-0.292529</td>\n",
              "      <td>-1.052786</td>\n",
              "      <td>0.145228</td>\n",
              "      <td>-0.253567</td>\n",
              "      <td>-0.100521</td>\n",
              "      <td>...</td>\n",
              "      <td>-0.278029</td>\n",
              "      <td>-0.757417</td>\n",
              "      <td>0.119613</td>\n",
              "      <td>0.369393</td>\n",
              "      <td>0.246145</td>\n",
              "      <td>0.091553</td>\n",
              "      <td>-0.017156</td>\n",
              "      <td>0.032557</td>\n",
              "      <td>0.89</td>\n",
              "      <td>0.0</td>\n",
              "    </tr>\n",
              "    <tr>\n",
              "      <th>45644</th>\n",
              "      <td>42437</td>\n",
              "      <td>-0.500147</td>\n",
              "      <td>1.000770</td>\n",
              "      <td>1.809639</td>\n",
              "      <td>-0.114551</td>\n",
              "      <td>0.333865</td>\n",
              "      <td>-0.577076</td>\n",
              "      <td>1.062325</td>\n",
              "      <td>-0.513050</td>\n",
              "      <td>-0.048285</td>\n",
              "      <td>...</td>\n",
              "      <td>-0.193814</td>\n",
              "      <td>-0.161410</td>\n",
              "      <td>0.036965</td>\n",
              "      <td>0.400154</td>\n",
              "      <td>-0.802486</td>\n",
              "      <td>-0.076097</td>\n",
              "      <td>-0.214317</td>\n",
              "      <td>-0.229160</td>\n",
              "      <td>2.69</td>\n",
              "      <td>0.0</td>\n",
              "    </tr>\n",
              "    <tr>\n",
              "      <th>45645</th>\n",
              "      <td>42437</td>\n",
              "      <td>-0.652459</td>\n",
              "      <td>0.177290</td>\n",
              "      <td>1.955607</td>\n",
              "      <td>-1.879724</td>\n",
              "      <td>-0.368457</td>\n",
              "      <td>NaN</td>\n",
              "      <td>NaN</td>\n",
              "      <td>NaN</td>\n",
              "      <td>NaN</td>\n",
              "      <td>...</td>\n",
              "      <td>NaN</td>\n",
              "      <td>NaN</td>\n",
              "      <td>NaN</td>\n",
              "      <td>NaN</td>\n",
              "      <td>NaN</td>\n",
              "      <td>NaN</td>\n",
              "      <td>NaN</td>\n",
              "      <td>NaN</td>\n",
              "      <td>NaN</td>\n",
              "      <td>NaN</td>\n",
              "    </tr>\n",
              "  </tbody>\n",
              "</table>\n",
              "<p>5 rows × 31 columns</p>\n",
              "</div>\n",
              "      <button class=\"colab-df-convert\" onclick=\"convertToInteractive('df-11e58390-46d9-4a14-85ea-2ddbba119609')\"\n",
              "              title=\"Convert this dataframe to an interactive table.\"\n",
              "              style=\"display:none;\">\n",
              "        \n",
              "  <svg xmlns=\"http://www.w3.org/2000/svg\" height=\"24px\"viewBox=\"0 0 24 24\"\n",
              "       width=\"24px\">\n",
              "    <path d=\"M0 0h24v24H0V0z\" fill=\"none\"/>\n",
              "    <path d=\"M18.56 5.44l.94 2.06.94-2.06 2.06-.94-2.06-.94-.94-2.06-.94 2.06-2.06.94zm-11 1L8.5 8.5l.94-2.06 2.06-.94-2.06-.94L8.5 2.5l-.94 2.06-2.06.94zm10 10l.94 2.06.94-2.06 2.06-.94-2.06-.94-.94-2.06-.94 2.06-2.06.94z\"/><path d=\"M17.41 7.96l-1.37-1.37c-.4-.4-.92-.59-1.43-.59-.52 0-1.04.2-1.43.59L10.3 9.45l-7.72 7.72c-.78.78-.78 2.05 0 2.83L4 21.41c.39.39.9.59 1.41.59.51 0 1.02-.2 1.41-.59l7.78-7.78 2.81-2.81c.8-.78.8-2.07 0-2.86zM5.41 20L4 18.59l7.72-7.72 1.47 1.35L5.41 20z\"/>\n",
              "  </svg>\n",
              "      </button>\n",
              "      \n",
              "  <style>\n",
              "    .colab-df-container {\n",
              "      display:flex;\n",
              "      flex-wrap:wrap;\n",
              "      gap: 12px;\n",
              "    }\n",
              "\n",
              "    .colab-df-convert {\n",
              "      background-color: #E8F0FE;\n",
              "      border: none;\n",
              "      border-radius: 50%;\n",
              "      cursor: pointer;\n",
              "      display: none;\n",
              "      fill: #1967D2;\n",
              "      height: 32px;\n",
              "      padding: 0 0 0 0;\n",
              "      width: 32px;\n",
              "    }\n",
              "\n",
              "    .colab-df-convert:hover {\n",
              "      background-color: #E2EBFA;\n",
              "      box-shadow: 0px 1px 2px rgba(60, 64, 67, 0.3), 0px 1px 3px 1px rgba(60, 64, 67, 0.15);\n",
              "      fill: #174EA6;\n",
              "    }\n",
              "\n",
              "    [theme=dark] .colab-df-convert {\n",
              "      background-color: #3B4455;\n",
              "      fill: #D2E3FC;\n",
              "    }\n",
              "\n",
              "    [theme=dark] .colab-df-convert:hover {\n",
              "      background-color: #434B5C;\n",
              "      box-shadow: 0px 1px 3px 1px rgba(0, 0, 0, 0.15);\n",
              "      filter: drop-shadow(0px 1px 2px rgba(0, 0, 0, 0.3));\n",
              "      fill: #FFFFFF;\n",
              "    }\n",
              "  </style>\n",
              "\n",
              "      <script>\n",
              "        const buttonEl =\n",
              "          document.querySelector('#df-11e58390-46d9-4a14-85ea-2ddbba119609 button.colab-df-convert');\n",
              "        buttonEl.style.display =\n",
              "          google.colab.kernel.accessAllowed ? 'block' : 'none';\n",
              "\n",
              "        async function convertToInteractive(key) {\n",
              "          const element = document.querySelector('#df-11e58390-46d9-4a14-85ea-2ddbba119609');\n",
              "          const dataTable =\n",
              "            await google.colab.kernel.invokeFunction('convertToInteractive',\n",
              "                                                     [key], {});\n",
              "          if (!dataTable) return;\n",
              "\n",
              "          const docLinkHtml = 'Like what you see? Visit the ' +\n",
              "            '<a target=\"_blank\" href=https://colab.research.google.com/notebooks/data_table.ipynb>data table notebook</a>'\n",
              "            + ' to learn more about interactive tables.';\n",
              "          element.innerHTML = '';\n",
              "          dataTable['output_type'] = 'display_data';\n",
              "          await google.colab.output.renderOutput(dataTable, element);\n",
              "          const docLink = document.createElement('div');\n",
              "          docLink.innerHTML = docLinkHtml;\n",
              "          element.appendChild(docLink);\n",
              "        }\n",
              "      </script>\n",
              "    </div>\n",
              "  </div>\n",
              "  "
            ]
          },
          "metadata": {},
          "execution_count": 5
        }
      ]
    },
    {
      "cell_type": "code",
      "source": [
        "# dataset informations\n",
        "credit_card_data.info()\n"
      ],
      "metadata": {
        "colab": {
          "base_uri": "https://localhost:8080/"
        },
        "id": "_jmK3kUedoMC",
        "outputId": "12f03c59-2499-48c4-99a6-10ec8bf75278"
      },
      "execution_count": 6,
      "outputs": [
        {
          "output_type": "stream",
          "name": "stdout",
          "text": [
            "<class 'pandas.core.frame.DataFrame'>\n",
            "RangeIndex: 45646 entries, 0 to 45645\n",
            "Data columns (total 31 columns):\n",
            " #   Column  Non-Null Count  Dtype  \n",
            "---  ------  --------------  -----  \n",
            " 0   Time    45646 non-null  int64  \n",
            " 1   V1      45646 non-null  float64\n",
            " 2   V2      45646 non-null  float64\n",
            " 3   V3      45646 non-null  float64\n",
            " 4   V4      45646 non-null  float64\n",
            " 5   V5      45646 non-null  float64\n",
            " 6   V6      45645 non-null  float64\n",
            " 7   V7      45645 non-null  float64\n",
            " 8   V8      45645 non-null  float64\n",
            " 9   V9      45645 non-null  float64\n",
            " 10  V10     45645 non-null  float64\n",
            " 11  V11     45645 non-null  float64\n",
            " 12  V12     45645 non-null  float64\n",
            " 13  V13     45645 non-null  float64\n",
            " 14  V14     45645 non-null  float64\n",
            " 15  V15     45645 non-null  float64\n",
            " 16  V16     45645 non-null  float64\n",
            " 17  V17     45645 non-null  float64\n",
            " 18  V18     45645 non-null  float64\n",
            " 19  V19     45645 non-null  float64\n",
            " 20  V20     45645 non-null  float64\n",
            " 21  V21     45645 non-null  float64\n",
            " 22  V22     45645 non-null  float64\n",
            " 23  V23     45645 non-null  float64\n",
            " 24  V24     45645 non-null  float64\n",
            " 25  V25     45645 non-null  float64\n",
            " 26  V26     45645 non-null  float64\n",
            " 27  V27     45645 non-null  float64\n",
            " 28  V28     45645 non-null  float64\n",
            " 29  Amount  45645 non-null  float64\n",
            " 30  Class   45645 non-null  float64\n",
            "dtypes: float64(30), int64(1)\n",
            "memory usage: 10.8 MB\n"
          ]
        }
      ]
    },
    {
      "cell_type": "code",
      "source": [
        "# checking the number of missing values in each column\n",
        "credit_card_data.isnull().sum()"
      ],
      "metadata": {
        "colab": {
          "base_uri": "https://localhost:8080/"
        },
        "id": "b7T_7RHId8Vc",
        "outputId": "e01816ec-d130-4c34-9793-6c6b9a5dd7c2"
      },
      "execution_count": 7,
      "outputs": [
        {
          "output_type": "execute_result",
          "data": {
            "text/plain": [
              "Time      0\n",
              "V1        0\n",
              "V2        0\n",
              "V3        0\n",
              "V4        0\n",
              "V5        0\n",
              "V6        1\n",
              "V7        1\n",
              "V8        1\n",
              "V9        1\n",
              "V10       1\n",
              "V11       1\n",
              "V12       1\n",
              "V13       1\n",
              "V14       1\n",
              "V15       1\n",
              "V16       1\n",
              "V17       1\n",
              "V18       1\n",
              "V19       1\n",
              "V20       1\n",
              "V21       1\n",
              "V22       1\n",
              "V23       1\n",
              "V24       1\n",
              "V25       1\n",
              "V26       1\n",
              "V27       1\n",
              "V28       1\n",
              "Amount    1\n",
              "Class     1\n",
              "dtype: int64"
            ]
          },
          "metadata": {},
          "execution_count": 7
        }
      ]
    },
    {
      "cell_type": "code",
      "source": [
        "#drop missing values\n",
        "credit_card_data= credit_card_data.dropna(how='any')"
      ],
      "metadata": {
        "id": "PfrV-56TeTj9"
      },
      "execution_count": 8,
      "outputs": []
    },
    {
      "cell_type": "code",
      "source": [
        "credit_card_data.isnull().sum()"
      ],
      "metadata": {
        "colab": {
          "base_uri": "https://localhost:8080/"
        },
        "id": "iYzZ0FvefPtf",
        "outputId": "63c681b0-8509-4f22-8935-ca081b51465c"
      },
      "execution_count": 9,
      "outputs": [
        {
          "output_type": "execute_result",
          "data": {
            "text/plain": [
              "Time      0\n",
              "V1        0\n",
              "V2        0\n",
              "V3        0\n",
              "V4        0\n",
              "V5        0\n",
              "V6        0\n",
              "V7        0\n",
              "V8        0\n",
              "V9        0\n",
              "V10       0\n",
              "V11       0\n",
              "V12       0\n",
              "V13       0\n",
              "V14       0\n",
              "V15       0\n",
              "V16       0\n",
              "V17       0\n",
              "V18       0\n",
              "V19       0\n",
              "V20       0\n",
              "V21       0\n",
              "V22       0\n",
              "V23       0\n",
              "V24       0\n",
              "V25       0\n",
              "V26       0\n",
              "V27       0\n",
              "V28       0\n",
              "Amount    0\n",
              "Class     0\n",
              "dtype: int64"
            ]
          },
          "metadata": {},
          "execution_count": 9
        }
      ]
    },
    {
      "cell_type": "code",
      "source": [
        "#distribution of lgit transactions & Fraudulent Transactions\n",
        "credit_card_data['Class'].value_counts()"
      ],
      "metadata": {
        "colab": {
          "base_uri": "https://localhost:8080/"
        },
        "id": "KvoQ8UiUfTim",
        "outputId": "9bbbcb06-7027-4409-e289-70cb04b1b03b"
      },
      "execution_count": 10,
      "outputs": [
        {
          "output_type": "execute_result",
          "data": {
            "text/plain": [
              "0.0    45503\n",
              "1.0      142\n",
              "Name: Class, dtype: int64"
            ]
          },
          "metadata": {},
          "execution_count": 10
        }
      ]
    },
    {
      "cell_type": "markdown",
      "source": [
        "We see that the data is highly imbalanced as about 99% of data belongs to a single class. Hence we should first make the dataset balanced. So we cannot feed this data into our Machine Learning Model because the data for the fraud is very small so our ML model will not be able to learn properly and will always predict the transaction to be true."
      ],
      "metadata": {
        "id": "Tq6qjCjWfxZu"
      }
    },
    {
      "cell_type": "markdown",
      "source": [
        "This dataset is highly imbalanced."
      ],
      "metadata": {
        "id": "_MTuxVrYggW7"
      }
    },
    {
      "cell_type": "markdown",
      "source": [
        "0 --> Normal Transactions\n",
        "\n",
        "1 --> Fraudulent Transactions"
      ],
      "metadata": {
        "id": "Alnm-XEIglOc"
      }
    },
    {
      "cell_type": "code",
      "source": [
        "# separating the data for analysis\n",
        "legit = credit_card_data[credit_card_data.Class == 0]\n",
        "fraud = credit_card_data[credit_card_data.Class == 1]"
      ],
      "metadata": {
        "id": "v3gAVjPffnZf"
      },
      "execution_count": 11,
      "outputs": []
    },
    {
      "cell_type": "code",
      "source": [
        "print(legit.shape)\n",
        "print(fraud.shape)"
      ],
      "metadata": {
        "colab": {
          "base_uri": "https://localhost:8080/"
        },
        "id": "qq4zJLd0hShp",
        "outputId": "cf48c4e7-4cf5-49fe-d5cd-887634b2e55e"
      },
      "execution_count": 12,
      "outputs": [
        {
          "output_type": "stream",
          "name": "stdout",
          "text": [
            "(45503, 31)\n",
            "(142, 31)\n"
          ]
        }
      ]
    },
    {
      "cell_type": "code",
      "source": [
        "# statistical measures of the data\n",
        "legit.Amount.describe()"
      ],
      "metadata": {
        "colab": {
          "base_uri": "https://localhost:8080/"
        },
        "id": "jCdBw-16iuZQ",
        "outputId": "adf01968-9c37-4d0e-9489-6f3e4250b172"
      },
      "execution_count": 13,
      "outputs": [
        {
          "output_type": "execute_result",
          "data": {
            "text/plain": [
              "count    45503.000000\n",
              "mean        90.808470\n",
              "std        240.322652\n",
              "min          0.000000\n",
              "25%          7.580000\n",
              "50%         24.990000\n",
              "75%         82.360000\n",
              "max       7879.420000\n",
              "Name: Amount, dtype: float64"
            ]
          },
          "metadata": {},
          "execution_count": 13
        }
      ]
    },
    {
      "cell_type": "code",
      "source": [
        "fraud.Amount.describe()"
      ],
      "metadata": {
        "colab": {
          "base_uri": "https://localhost:8080/"
        },
        "id": "T-vaqItei_OI",
        "outputId": "e94ad094-e187-42e8-899c-70c78511b8cd"
      },
      "execution_count": 14,
      "outputs": [
        {
          "output_type": "execute_result",
          "data": {
            "text/plain": [
              "count     142.000000\n",
              "mean       97.592183\n",
              "std       233.185192\n",
              "min         0.000000\n",
              "25%         1.000000\n",
              "50%         8.370000\n",
              "75%        99.990000\n",
              "max      1809.680000\n",
              "Name: Amount, dtype: float64"
            ]
          },
          "metadata": {},
          "execution_count": 14
        }
      ]
    },
    {
      "cell_type": "code",
      "source": [
        "# comapre the values for both transactions\n",
        "credit_card_data.groupby('Class').mean()"
      ],
      "metadata": {
        "colab": {
          "base_uri": "https://localhost:8080/",
          "height": 237
        },
        "id": "zsN0kT60jH89",
        "outputId": "e9490fa7-8f2d-4989-be4f-e71d516e4ddf"
      },
      "execution_count": 15,
      "outputs": [
        {
          "output_type": "execute_result",
          "data": {
            "text/plain": [
              "               Time       V1        V2         V3        V4        V5  \\\n",
              "Class                                                                   \n",
              "0.0    27549.332857 -0.21371  0.011525   0.732168  0.173212 -0.230885   \n",
              "1.0    26193.556338 -7.87188  5.609155 -10.671851  6.067972 -5.862266   \n",
              "\n",
              "             V6        V7        V8        V9  ...       V20       V21  \\\n",
              "Class                                          ...                       \n",
              "0.0    0.106122 -0.092498  0.041321  0.169777  ...  0.046284 -0.029987   \n",
              "1.0   -2.315720 -8.269674  3.901566 -3.650345  ...  0.486666  0.898581   \n",
              "\n",
              "            V22       V23       V24       V25       V26       V27       V28  \\\n",
              "Class                                                                         \n",
              "0.0   -0.108242 -0.038246  0.009637  0.136319  0.021863  0.003681  0.004547   \n",
              "1.0   -0.250143 -0.300033 -0.079930  0.257712  0.163858  0.596174  0.034797   \n",
              "\n",
              "          Amount  \n",
              "Class             \n",
              "0.0    90.808470  \n",
              "1.0    97.592183  \n",
              "\n",
              "[2 rows x 30 columns]"
            ],
            "text/html": [
              "\n",
              "  <div id=\"df-8608e1ff-9971-421d-a0ce-0f52257def53\">\n",
              "    <div class=\"colab-df-container\">\n",
              "      <div>\n",
              "<style scoped>\n",
              "    .dataframe tbody tr th:only-of-type {\n",
              "        vertical-align: middle;\n",
              "    }\n",
              "\n",
              "    .dataframe tbody tr th {\n",
              "        vertical-align: top;\n",
              "    }\n",
              "\n",
              "    .dataframe thead th {\n",
              "        text-align: right;\n",
              "    }\n",
              "</style>\n",
              "<table border=\"1\" class=\"dataframe\">\n",
              "  <thead>\n",
              "    <tr style=\"text-align: right;\">\n",
              "      <th></th>\n",
              "      <th>Time</th>\n",
              "      <th>V1</th>\n",
              "      <th>V2</th>\n",
              "      <th>V3</th>\n",
              "      <th>V4</th>\n",
              "      <th>V5</th>\n",
              "      <th>V6</th>\n",
              "      <th>V7</th>\n",
              "      <th>V8</th>\n",
              "      <th>V9</th>\n",
              "      <th>...</th>\n",
              "      <th>V20</th>\n",
              "      <th>V21</th>\n",
              "      <th>V22</th>\n",
              "      <th>V23</th>\n",
              "      <th>V24</th>\n",
              "      <th>V25</th>\n",
              "      <th>V26</th>\n",
              "      <th>V27</th>\n",
              "      <th>V28</th>\n",
              "      <th>Amount</th>\n",
              "    </tr>\n",
              "    <tr>\n",
              "      <th>Class</th>\n",
              "      <th></th>\n",
              "      <th></th>\n",
              "      <th></th>\n",
              "      <th></th>\n",
              "      <th></th>\n",
              "      <th></th>\n",
              "      <th></th>\n",
              "      <th></th>\n",
              "      <th></th>\n",
              "      <th></th>\n",
              "      <th></th>\n",
              "      <th></th>\n",
              "      <th></th>\n",
              "      <th></th>\n",
              "      <th></th>\n",
              "      <th></th>\n",
              "      <th></th>\n",
              "      <th></th>\n",
              "      <th></th>\n",
              "      <th></th>\n",
              "      <th></th>\n",
              "    </tr>\n",
              "  </thead>\n",
              "  <tbody>\n",
              "    <tr>\n",
              "      <th>0.0</th>\n",
              "      <td>27549.332857</td>\n",
              "      <td>-0.21371</td>\n",
              "      <td>0.011525</td>\n",
              "      <td>0.732168</td>\n",
              "      <td>0.173212</td>\n",
              "      <td>-0.230885</td>\n",
              "      <td>0.106122</td>\n",
              "      <td>-0.092498</td>\n",
              "      <td>0.041321</td>\n",
              "      <td>0.169777</td>\n",
              "      <td>...</td>\n",
              "      <td>0.046284</td>\n",
              "      <td>-0.029987</td>\n",
              "      <td>-0.108242</td>\n",
              "      <td>-0.038246</td>\n",
              "      <td>0.009637</td>\n",
              "      <td>0.136319</td>\n",
              "      <td>0.021863</td>\n",
              "      <td>0.003681</td>\n",
              "      <td>0.004547</td>\n",
              "      <td>90.808470</td>\n",
              "    </tr>\n",
              "    <tr>\n",
              "      <th>1.0</th>\n",
              "      <td>26193.556338</td>\n",
              "      <td>-7.87188</td>\n",
              "      <td>5.609155</td>\n",
              "      <td>-10.671851</td>\n",
              "      <td>6.067972</td>\n",
              "      <td>-5.862266</td>\n",
              "      <td>-2.315720</td>\n",
              "      <td>-8.269674</td>\n",
              "      <td>3.901566</td>\n",
              "      <td>-3.650345</td>\n",
              "      <td>...</td>\n",
              "      <td>0.486666</td>\n",
              "      <td>0.898581</td>\n",
              "      <td>-0.250143</td>\n",
              "      <td>-0.300033</td>\n",
              "      <td>-0.079930</td>\n",
              "      <td>0.257712</td>\n",
              "      <td>0.163858</td>\n",
              "      <td>0.596174</td>\n",
              "      <td>0.034797</td>\n",
              "      <td>97.592183</td>\n",
              "    </tr>\n",
              "  </tbody>\n",
              "</table>\n",
              "<p>2 rows × 30 columns</p>\n",
              "</div>\n",
              "      <button class=\"colab-df-convert\" onclick=\"convertToInteractive('df-8608e1ff-9971-421d-a0ce-0f52257def53')\"\n",
              "              title=\"Convert this dataframe to an interactive table.\"\n",
              "              style=\"display:none;\">\n",
              "        \n",
              "  <svg xmlns=\"http://www.w3.org/2000/svg\" height=\"24px\"viewBox=\"0 0 24 24\"\n",
              "       width=\"24px\">\n",
              "    <path d=\"M0 0h24v24H0V0z\" fill=\"none\"/>\n",
              "    <path d=\"M18.56 5.44l.94 2.06.94-2.06 2.06-.94-2.06-.94-.94-2.06-.94 2.06-2.06.94zm-11 1L8.5 8.5l.94-2.06 2.06-.94-2.06-.94L8.5 2.5l-.94 2.06-2.06.94zm10 10l.94 2.06.94-2.06 2.06-.94-2.06-.94-.94-2.06-.94 2.06-2.06.94z\"/><path d=\"M17.41 7.96l-1.37-1.37c-.4-.4-.92-.59-1.43-.59-.52 0-1.04.2-1.43.59L10.3 9.45l-7.72 7.72c-.78.78-.78 2.05 0 2.83L4 21.41c.39.39.9.59 1.41.59.51 0 1.02-.2 1.41-.59l7.78-7.78 2.81-2.81c.8-.78.8-2.07 0-2.86zM5.41 20L4 18.59l7.72-7.72 1.47 1.35L5.41 20z\"/>\n",
              "  </svg>\n",
              "      </button>\n",
              "      \n",
              "  <style>\n",
              "    .colab-df-container {\n",
              "      display:flex;\n",
              "      flex-wrap:wrap;\n",
              "      gap: 12px;\n",
              "    }\n",
              "\n",
              "    .colab-df-convert {\n",
              "      background-color: #E8F0FE;\n",
              "      border: none;\n",
              "      border-radius: 50%;\n",
              "      cursor: pointer;\n",
              "      display: none;\n",
              "      fill: #1967D2;\n",
              "      height: 32px;\n",
              "      padding: 0 0 0 0;\n",
              "      width: 32px;\n",
              "    }\n",
              "\n",
              "    .colab-df-convert:hover {\n",
              "      background-color: #E2EBFA;\n",
              "      box-shadow: 0px 1px 2px rgba(60, 64, 67, 0.3), 0px 1px 3px 1px rgba(60, 64, 67, 0.15);\n",
              "      fill: #174EA6;\n",
              "    }\n",
              "\n",
              "    [theme=dark] .colab-df-convert {\n",
              "      background-color: #3B4455;\n",
              "      fill: #D2E3FC;\n",
              "    }\n",
              "\n",
              "    [theme=dark] .colab-df-convert:hover {\n",
              "      background-color: #434B5C;\n",
              "      box-shadow: 0px 1px 3px 1px rgba(0, 0, 0, 0.15);\n",
              "      filter: drop-shadow(0px 1px 2px rgba(0, 0, 0, 0.3));\n",
              "      fill: #FFFFFF;\n",
              "    }\n",
              "  </style>\n",
              "\n",
              "      <script>\n",
              "        const buttonEl =\n",
              "          document.querySelector('#df-8608e1ff-9971-421d-a0ce-0f52257def53 button.colab-df-convert');\n",
              "        buttonEl.style.display =\n",
              "          google.colab.kernel.accessAllowed ? 'block' : 'none';\n",
              "\n",
              "        async function convertToInteractive(key) {\n",
              "          const element = document.querySelector('#df-8608e1ff-9971-421d-a0ce-0f52257def53');\n",
              "          const dataTable =\n",
              "            await google.colab.kernel.invokeFunction('convertToInteractive',\n",
              "                                                     [key], {});\n",
              "          if (!dataTable) return;\n",
              "\n",
              "          const docLinkHtml = 'Like what you see? Visit the ' +\n",
              "            '<a target=\"_blank\" href=https://colab.research.google.com/notebooks/data_table.ipynb>data table notebook</a>'\n",
              "            + ' to learn more about interactive tables.';\n",
              "          element.innerHTML = '';\n",
              "          dataTable['output_type'] = 'display_data';\n",
              "          await google.colab.output.renderOutput(dataTable, element);\n",
              "          const docLink = document.createElement('div');\n",
              "          docLink.innerHTML = docLinkHtml;\n",
              "          element.appendChild(docLink);\n",
              "        }\n",
              "      </script>\n",
              "    </div>\n",
              "  </div>\n",
              "  "
            ]
          },
          "metadata": {},
          "execution_count": 15
        }
      ]
    },
    {
      "cell_type": "markdown",
      "source": [
        "Under-Sampling"
      ],
      "metadata": {
        "id": "4VelMwAykW6I"
      }
    },
    {
      "cell_type": "markdown",
      "source": [
        "Build a sample dataset containing similar distribution of normal transactions and Fraudulent Transaction"
      ],
      "metadata": {
        "id": "O3XWiVQ6kchA"
      }
    },
    {
      "cell_type": "markdown",
      "source": [
        "Number of Fraudulent Transactions -> 142"
      ],
      "metadata": {
        "id": "dusK_m6AkxJY"
      }
    },
    {
      "cell_type": "code",
      "source": [
        "# Here we are Random Sampling (It is one of the good methods)\n",
        "legit_sample = legit.sample(n=142)"
      ],
      "metadata": {
        "id": "DWHTTkKckH9s"
      },
      "execution_count": 16,
      "outputs": []
    },
    {
      "cell_type": "markdown",
      "source": [
        "Concatenating two DataFrames"
      ],
      "metadata": {
        "id": "HyWrhT67lidD"
      }
    },
    {
      "cell_type": "code",
      "source": [
        "new_dataset =pd.concat([legit_sample, fraud], axis =0)\n",
        "# Here axis = 0 means fraud data will added after legit_sample data and will be added Rowwise whereas if we would have written axis =1 then data would have been added columnwise which we do not want."
      ],
      "metadata": {
        "id": "dJZqrIHrlfvb"
      },
      "execution_count": 17,
      "outputs": []
    },
    {
      "cell_type": "code",
      "source": [
        "new_dataset.head()"
      ],
      "metadata": {
        "colab": {
          "base_uri": "https://localhost:8080/",
          "height": 299
        },
        "id": "hxPBPW0zman1",
        "outputId": "f73c3471-6250-47eb-ecb6-29a654c87bad"
      },
      "execution_count": 18,
      "outputs": [
        {
          "output_type": "execute_result",
          "data": {
            "text/plain": [
              "        Time        V1        V2        V3        V4        V5        V6  \\\n",
              "32814  36975  1.230372  0.203217  0.628537  0.927927 -0.245080 -0.122833   \n",
              "35152  37989  0.800326 -1.427396 -0.097453 -0.529858 -1.134342 -0.491852   \n",
              "10736  18209  1.128457 -0.375890  1.115064 -0.629260 -1.014822 -0.099195   \n",
              "13776  24430  0.899154 -0.293818  1.404180  1.911761 -0.735406  0.873092   \n",
              "34819  37838  0.847612 -1.718757  0.135955 -0.277621 -1.195311  0.245979   \n",
              "\n",
              "             V7        V8        V9  ...       V21       V22       V23  \\\n",
              "32814 -0.205121 -0.057064  0.242158  ... -0.092530 -0.224401 -0.070891   \n",
              "35152 -0.077162 -0.158231 -1.159454  ... -0.381142 -1.364600 -0.124683   \n",
              "10736 -0.838243  0.165208  2.852007  ... -0.065429  0.273490  0.010652   \n",
              "13776 -0.631272  0.314374  2.241765  ... -0.460196 -0.781822  0.049830   \n",
              "34819 -0.498281 -0.061618  0.036444  ...  0.191561  0.140933 -0.501126   \n",
              "\n",
              "            V24       V25       V26       V27       V28  Amount  Class  \n",
              "32814 -0.457773  0.462475 -0.464653  0.052381  0.033410   19.40    0.0  \n",
              "35152  0.002303 -0.039697  0.788610 -0.121898  0.048514  306.00    0.0  \n",
              "10736  0.183281  0.337615 -0.726158  0.076749  0.018898   11.85    0.0  \n",
              "13776  0.163669  0.324016 -0.585072  0.049348  0.025677   75.99    0.0  \n",
              "34819 -0.488584  0.670835 -0.064686 -0.016206  0.058418  309.60    0.0  \n",
              "\n",
              "[5 rows x 31 columns]"
            ],
            "text/html": [
              "\n",
              "  <div id=\"df-8e78c4bc-c7c0-40b3-a21f-3f24477e38cb\">\n",
              "    <div class=\"colab-df-container\">\n",
              "      <div>\n",
              "<style scoped>\n",
              "    .dataframe tbody tr th:only-of-type {\n",
              "        vertical-align: middle;\n",
              "    }\n",
              "\n",
              "    .dataframe tbody tr th {\n",
              "        vertical-align: top;\n",
              "    }\n",
              "\n",
              "    .dataframe thead th {\n",
              "        text-align: right;\n",
              "    }\n",
              "</style>\n",
              "<table border=\"1\" class=\"dataframe\">\n",
              "  <thead>\n",
              "    <tr style=\"text-align: right;\">\n",
              "      <th></th>\n",
              "      <th>Time</th>\n",
              "      <th>V1</th>\n",
              "      <th>V2</th>\n",
              "      <th>V3</th>\n",
              "      <th>V4</th>\n",
              "      <th>V5</th>\n",
              "      <th>V6</th>\n",
              "      <th>V7</th>\n",
              "      <th>V8</th>\n",
              "      <th>V9</th>\n",
              "      <th>...</th>\n",
              "      <th>V21</th>\n",
              "      <th>V22</th>\n",
              "      <th>V23</th>\n",
              "      <th>V24</th>\n",
              "      <th>V25</th>\n",
              "      <th>V26</th>\n",
              "      <th>V27</th>\n",
              "      <th>V28</th>\n",
              "      <th>Amount</th>\n",
              "      <th>Class</th>\n",
              "    </tr>\n",
              "  </thead>\n",
              "  <tbody>\n",
              "    <tr>\n",
              "      <th>32814</th>\n",
              "      <td>36975</td>\n",
              "      <td>1.230372</td>\n",
              "      <td>0.203217</td>\n",
              "      <td>0.628537</td>\n",
              "      <td>0.927927</td>\n",
              "      <td>-0.245080</td>\n",
              "      <td>-0.122833</td>\n",
              "      <td>-0.205121</td>\n",
              "      <td>-0.057064</td>\n",
              "      <td>0.242158</td>\n",
              "      <td>...</td>\n",
              "      <td>-0.092530</td>\n",
              "      <td>-0.224401</td>\n",
              "      <td>-0.070891</td>\n",
              "      <td>-0.457773</td>\n",
              "      <td>0.462475</td>\n",
              "      <td>-0.464653</td>\n",
              "      <td>0.052381</td>\n",
              "      <td>0.033410</td>\n",
              "      <td>19.40</td>\n",
              "      <td>0.0</td>\n",
              "    </tr>\n",
              "    <tr>\n",
              "      <th>35152</th>\n",
              "      <td>37989</td>\n",
              "      <td>0.800326</td>\n",
              "      <td>-1.427396</td>\n",
              "      <td>-0.097453</td>\n",
              "      <td>-0.529858</td>\n",
              "      <td>-1.134342</td>\n",
              "      <td>-0.491852</td>\n",
              "      <td>-0.077162</td>\n",
              "      <td>-0.158231</td>\n",
              "      <td>-1.159454</td>\n",
              "      <td>...</td>\n",
              "      <td>-0.381142</td>\n",
              "      <td>-1.364600</td>\n",
              "      <td>-0.124683</td>\n",
              "      <td>0.002303</td>\n",
              "      <td>-0.039697</td>\n",
              "      <td>0.788610</td>\n",
              "      <td>-0.121898</td>\n",
              "      <td>0.048514</td>\n",
              "      <td>306.00</td>\n",
              "      <td>0.0</td>\n",
              "    </tr>\n",
              "    <tr>\n",
              "      <th>10736</th>\n",
              "      <td>18209</td>\n",
              "      <td>1.128457</td>\n",
              "      <td>-0.375890</td>\n",
              "      <td>1.115064</td>\n",
              "      <td>-0.629260</td>\n",
              "      <td>-1.014822</td>\n",
              "      <td>-0.099195</td>\n",
              "      <td>-0.838243</td>\n",
              "      <td>0.165208</td>\n",
              "      <td>2.852007</td>\n",
              "      <td>...</td>\n",
              "      <td>-0.065429</td>\n",
              "      <td>0.273490</td>\n",
              "      <td>0.010652</td>\n",
              "      <td>0.183281</td>\n",
              "      <td>0.337615</td>\n",
              "      <td>-0.726158</td>\n",
              "      <td>0.076749</td>\n",
              "      <td>0.018898</td>\n",
              "      <td>11.85</td>\n",
              "      <td>0.0</td>\n",
              "    </tr>\n",
              "    <tr>\n",
              "      <th>13776</th>\n",
              "      <td>24430</td>\n",
              "      <td>0.899154</td>\n",
              "      <td>-0.293818</td>\n",
              "      <td>1.404180</td>\n",
              "      <td>1.911761</td>\n",
              "      <td>-0.735406</td>\n",
              "      <td>0.873092</td>\n",
              "      <td>-0.631272</td>\n",
              "      <td>0.314374</td>\n",
              "      <td>2.241765</td>\n",
              "      <td>...</td>\n",
              "      <td>-0.460196</td>\n",
              "      <td>-0.781822</td>\n",
              "      <td>0.049830</td>\n",
              "      <td>0.163669</td>\n",
              "      <td>0.324016</td>\n",
              "      <td>-0.585072</td>\n",
              "      <td>0.049348</td>\n",
              "      <td>0.025677</td>\n",
              "      <td>75.99</td>\n",
              "      <td>0.0</td>\n",
              "    </tr>\n",
              "    <tr>\n",
              "      <th>34819</th>\n",
              "      <td>37838</td>\n",
              "      <td>0.847612</td>\n",
              "      <td>-1.718757</td>\n",
              "      <td>0.135955</td>\n",
              "      <td>-0.277621</td>\n",
              "      <td>-1.195311</td>\n",
              "      <td>0.245979</td>\n",
              "      <td>-0.498281</td>\n",
              "      <td>-0.061618</td>\n",
              "      <td>0.036444</td>\n",
              "      <td>...</td>\n",
              "      <td>0.191561</td>\n",
              "      <td>0.140933</td>\n",
              "      <td>-0.501126</td>\n",
              "      <td>-0.488584</td>\n",
              "      <td>0.670835</td>\n",
              "      <td>-0.064686</td>\n",
              "      <td>-0.016206</td>\n",
              "      <td>0.058418</td>\n",
              "      <td>309.60</td>\n",
              "      <td>0.0</td>\n",
              "    </tr>\n",
              "  </tbody>\n",
              "</table>\n",
              "<p>5 rows × 31 columns</p>\n",
              "</div>\n",
              "      <button class=\"colab-df-convert\" onclick=\"convertToInteractive('df-8e78c4bc-c7c0-40b3-a21f-3f24477e38cb')\"\n",
              "              title=\"Convert this dataframe to an interactive table.\"\n",
              "              style=\"display:none;\">\n",
              "        \n",
              "  <svg xmlns=\"http://www.w3.org/2000/svg\" height=\"24px\"viewBox=\"0 0 24 24\"\n",
              "       width=\"24px\">\n",
              "    <path d=\"M0 0h24v24H0V0z\" fill=\"none\"/>\n",
              "    <path d=\"M18.56 5.44l.94 2.06.94-2.06 2.06-.94-2.06-.94-.94-2.06-.94 2.06-2.06.94zm-11 1L8.5 8.5l.94-2.06 2.06-.94-2.06-.94L8.5 2.5l-.94 2.06-2.06.94zm10 10l.94 2.06.94-2.06 2.06-.94-2.06-.94-.94-2.06-.94 2.06-2.06.94z\"/><path d=\"M17.41 7.96l-1.37-1.37c-.4-.4-.92-.59-1.43-.59-.52 0-1.04.2-1.43.59L10.3 9.45l-7.72 7.72c-.78.78-.78 2.05 0 2.83L4 21.41c.39.39.9.59 1.41.59.51 0 1.02-.2 1.41-.59l7.78-7.78 2.81-2.81c.8-.78.8-2.07 0-2.86zM5.41 20L4 18.59l7.72-7.72 1.47 1.35L5.41 20z\"/>\n",
              "  </svg>\n",
              "      </button>\n",
              "      \n",
              "  <style>\n",
              "    .colab-df-container {\n",
              "      display:flex;\n",
              "      flex-wrap:wrap;\n",
              "      gap: 12px;\n",
              "    }\n",
              "\n",
              "    .colab-df-convert {\n",
              "      background-color: #E8F0FE;\n",
              "      border: none;\n",
              "      border-radius: 50%;\n",
              "      cursor: pointer;\n",
              "      display: none;\n",
              "      fill: #1967D2;\n",
              "      height: 32px;\n",
              "      padding: 0 0 0 0;\n",
              "      width: 32px;\n",
              "    }\n",
              "\n",
              "    .colab-df-convert:hover {\n",
              "      background-color: #E2EBFA;\n",
              "      box-shadow: 0px 1px 2px rgba(60, 64, 67, 0.3), 0px 1px 3px 1px rgba(60, 64, 67, 0.15);\n",
              "      fill: #174EA6;\n",
              "    }\n",
              "\n",
              "    [theme=dark] .colab-df-convert {\n",
              "      background-color: #3B4455;\n",
              "      fill: #D2E3FC;\n",
              "    }\n",
              "\n",
              "    [theme=dark] .colab-df-convert:hover {\n",
              "      background-color: #434B5C;\n",
              "      box-shadow: 0px 1px 3px 1px rgba(0, 0, 0, 0.15);\n",
              "      filter: drop-shadow(0px 1px 2px rgba(0, 0, 0, 0.3));\n",
              "      fill: #FFFFFF;\n",
              "    }\n",
              "  </style>\n",
              "\n",
              "      <script>\n",
              "        const buttonEl =\n",
              "          document.querySelector('#df-8e78c4bc-c7c0-40b3-a21f-3f24477e38cb button.colab-df-convert');\n",
              "        buttonEl.style.display =\n",
              "          google.colab.kernel.accessAllowed ? 'block' : 'none';\n",
              "\n",
              "        async function convertToInteractive(key) {\n",
              "          const element = document.querySelector('#df-8e78c4bc-c7c0-40b3-a21f-3f24477e38cb');\n",
              "          const dataTable =\n",
              "            await google.colab.kernel.invokeFunction('convertToInteractive',\n",
              "                                                     [key], {});\n",
              "          if (!dataTable) return;\n",
              "\n",
              "          const docLinkHtml = 'Like what you see? Visit the ' +\n",
              "            '<a target=\"_blank\" href=https://colab.research.google.com/notebooks/data_table.ipynb>data table notebook</a>'\n",
              "            + ' to learn more about interactive tables.';\n",
              "          element.innerHTML = '';\n",
              "          dataTable['output_type'] = 'display_data';\n",
              "          await google.colab.output.renderOutput(dataTable, element);\n",
              "          const docLink = document.createElement('div');\n",
              "          docLink.innerHTML = docLinkHtml;\n",
              "          element.appendChild(docLink);\n",
              "        }\n",
              "      </script>\n",
              "    </div>\n",
              "  </div>\n",
              "  "
            ]
          },
          "metadata": {},
          "execution_count": 18
        }
      ]
    },
    {
      "cell_type": "code",
      "source": [
        "new_dataset.tail()"
      ],
      "metadata": {
        "colab": {
          "base_uri": "https://localhost:8080/",
          "height": 299
        },
        "id": "l2Jsw_Q9miQd",
        "outputId": "3bf1e2ad-4b4d-4c16-bd19-a216b1ae98fc"
      },
      "execution_count": 19,
      "outputs": [
        {
          "output_type": "execute_result",
          "data": {
            "text/plain": [
              "        Time         V1        V2         V3        V4         V5        V6  \\\n",
              "44091  41791  -7.222731  6.155773 -10.826460  4.180779  -6.123555 -3.114136   \n",
              "44223  41851 -19.139733  9.286847 -20.134992  7.818673 -15.652208 -1.668348   \n",
              "44270  41870 -20.906908  9.843153 -19.947726  6.155789 -15.142013 -2.239566   \n",
              "44556  41991  -4.566342  3.353451  -4.572028  3.616119  -2.493138 -1.090000   \n",
              "45203  42247  -2.524012  2.098152  -4.946075  6.456588   3.173921 -3.058806   \n",
              "\n",
              "              V7        V8        V9  ...       V21       V22       V23  \\\n",
              "44091  -6.895112  5.161516 -2.516477  ...  0.912700 -0.630358  0.190887   \n",
              "44223 -21.340478  0.641900 -8.550110  ... -2.182692  0.520543 -0.760556   \n",
              "44270 -21.234463  1.151795 -8.739670  ... -1.977196  0.652932 -0.519777   \n",
              "44556  -5.551433  0.447783 -2.424414  ...  2.674466 -0.020880 -0.302447   \n",
              "45203  -0.184710 -0.390420 -3.649812  ...  0.027935  0.220366  0.976348   \n",
              "\n",
              "            V24       V25       V26       V27       V28  Amount  Class  \n",
              "44091 -0.061263  0.379775 -0.266845  1.193695  0.257468   99.99    1.0  \n",
              "44223  0.662767 -0.948454  0.121796 -3.381843 -1.256524  139.90    1.0  \n",
              "44270  0.541702 -0.053861  0.112671 -3.765371 -1.071238    1.00    1.0  \n",
              "44556 -0.086396 -0.516060 -0.295102  0.195985  0.141115    1.00    1.0  \n",
              "45203 -0.290539  1.161002  0.663954  0.456023 -0.405682    1.00    1.0  \n",
              "\n",
              "[5 rows x 31 columns]"
            ],
            "text/html": [
              "\n",
              "  <div id=\"df-bf7433b5-ae33-4c8d-951d-f70b992030f4\">\n",
              "    <div class=\"colab-df-container\">\n",
              "      <div>\n",
              "<style scoped>\n",
              "    .dataframe tbody tr th:only-of-type {\n",
              "        vertical-align: middle;\n",
              "    }\n",
              "\n",
              "    .dataframe tbody tr th {\n",
              "        vertical-align: top;\n",
              "    }\n",
              "\n",
              "    .dataframe thead th {\n",
              "        text-align: right;\n",
              "    }\n",
              "</style>\n",
              "<table border=\"1\" class=\"dataframe\">\n",
              "  <thead>\n",
              "    <tr style=\"text-align: right;\">\n",
              "      <th></th>\n",
              "      <th>Time</th>\n",
              "      <th>V1</th>\n",
              "      <th>V2</th>\n",
              "      <th>V3</th>\n",
              "      <th>V4</th>\n",
              "      <th>V5</th>\n",
              "      <th>V6</th>\n",
              "      <th>V7</th>\n",
              "      <th>V8</th>\n",
              "      <th>V9</th>\n",
              "      <th>...</th>\n",
              "      <th>V21</th>\n",
              "      <th>V22</th>\n",
              "      <th>V23</th>\n",
              "      <th>V24</th>\n",
              "      <th>V25</th>\n",
              "      <th>V26</th>\n",
              "      <th>V27</th>\n",
              "      <th>V28</th>\n",
              "      <th>Amount</th>\n",
              "      <th>Class</th>\n",
              "    </tr>\n",
              "  </thead>\n",
              "  <tbody>\n",
              "    <tr>\n",
              "      <th>44091</th>\n",
              "      <td>41791</td>\n",
              "      <td>-7.222731</td>\n",
              "      <td>6.155773</td>\n",
              "      <td>-10.826460</td>\n",
              "      <td>4.180779</td>\n",
              "      <td>-6.123555</td>\n",
              "      <td>-3.114136</td>\n",
              "      <td>-6.895112</td>\n",
              "      <td>5.161516</td>\n",
              "      <td>-2.516477</td>\n",
              "      <td>...</td>\n",
              "      <td>0.912700</td>\n",
              "      <td>-0.630358</td>\n",
              "      <td>0.190887</td>\n",
              "      <td>-0.061263</td>\n",
              "      <td>0.379775</td>\n",
              "      <td>-0.266845</td>\n",
              "      <td>1.193695</td>\n",
              "      <td>0.257468</td>\n",
              "      <td>99.99</td>\n",
              "      <td>1.0</td>\n",
              "    </tr>\n",
              "    <tr>\n",
              "      <th>44223</th>\n",
              "      <td>41851</td>\n",
              "      <td>-19.139733</td>\n",
              "      <td>9.286847</td>\n",
              "      <td>-20.134992</td>\n",
              "      <td>7.818673</td>\n",
              "      <td>-15.652208</td>\n",
              "      <td>-1.668348</td>\n",
              "      <td>-21.340478</td>\n",
              "      <td>0.641900</td>\n",
              "      <td>-8.550110</td>\n",
              "      <td>...</td>\n",
              "      <td>-2.182692</td>\n",
              "      <td>0.520543</td>\n",
              "      <td>-0.760556</td>\n",
              "      <td>0.662767</td>\n",
              "      <td>-0.948454</td>\n",
              "      <td>0.121796</td>\n",
              "      <td>-3.381843</td>\n",
              "      <td>-1.256524</td>\n",
              "      <td>139.90</td>\n",
              "      <td>1.0</td>\n",
              "    </tr>\n",
              "    <tr>\n",
              "      <th>44270</th>\n",
              "      <td>41870</td>\n",
              "      <td>-20.906908</td>\n",
              "      <td>9.843153</td>\n",
              "      <td>-19.947726</td>\n",
              "      <td>6.155789</td>\n",
              "      <td>-15.142013</td>\n",
              "      <td>-2.239566</td>\n",
              "      <td>-21.234463</td>\n",
              "      <td>1.151795</td>\n",
              "      <td>-8.739670</td>\n",
              "      <td>...</td>\n",
              "      <td>-1.977196</td>\n",
              "      <td>0.652932</td>\n",
              "      <td>-0.519777</td>\n",
              "      <td>0.541702</td>\n",
              "      <td>-0.053861</td>\n",
              "      <td>0.112671</td>\n",
              "      <td>-3.765371</td>\n",
              "      <td>-1.071238</td>\n",
              "      <td>1.00</td>\n",
              "      <td>1.0</td>\n",
              "    </tr>\n",
              "    <tr>\n",
              "      <th>44556</th>\n",
              "      <td>41991</td>\n",
              "      <td>-4.566342</td>\n",
              "      <td>3.353451</td>\n",
              "      <td>-4.572028</td>\n",
              "      <td>3.616119</td>\n",
              "      <td>-2.493138</td>\n",
              "      <td>-1.090000</td>\n",
              "      <td>-5.551433</td>\n",
              "      <td>0.447783</td>\n",
              "      <td>-2.424414</td>\n",
              "      <td>...</td>\n",
              "      <td>2.674466</td>\n",
              "      <td>-0.020880</td>\n",
              "      <td>-0.302447</td>\n",
              "      <td>-0.086396</td>\n",
              "      <td>-0.516060</td>\n",
              "      <td>-0.295102</td>\n",
              "      <td>0.195985</td>\n",
              "      <td>0.141115</td>\n",
              "      <td>1.00</td>\n",
              "      <td>1.0</td>\n",
              "    </tr>\n",
              "    <tr>\n",
              "      <th>45203</th>\n",
              "      <td>42247</td>\n",
              "      <td>-2.524012</td>\n",
              "      <td>2.098152</td>\n",
              "      <td>-4.946075</td>\n",
              "      <td>6.456588</td>\n",
              "      <td>3.173921</td>\n",
              "      <td>-3.058806</td>\n",
              "      <td>-0.184710</td>\n",
              "      <td>-0.390420</td>\n",
              "      <td>-3.649812</td>\n",
              "      <td>...</td>\n",
              "      <td>0.027935</td>\n",
              "      <td>0.220366</td>\n",
              "      <td>0.976348</td>\n",
              "      <td>-0.290539</td>\n",
              "      <td>1.161002</td>\n",
              "      <td>0.663954</td>\n",
              "      <td>0.456023</td>\n",
              "      <td>-0.405682</td>\n",
              "      <td>1.00</td>\n",
              "      <td>1.0</td>\n",
              "    </tr>\n",
              "  </tbody>\n",
              "</table>\n",
              "<p>5 rows × 31 columns</p>\n",
              "</div>\n",
              "      <button class=\"colab-df-convert\" onclick=\"convertToInteractive('df-bf7433b5-ae33-4c8d-951d-f70b992030f4')\"\n",
              "              title=\"Convert this dataframe to an interactive table.\"\n",
              "              style=\"display:none;\">\n",
              "        \n",
              "  <svg xmlns=\"http://www.w3.org/2000/svg\" height=\"24px\"viewBox=\"0 0 24 24\"\n",
              "       width=\"24px\">\n",
              "    <path d=\"M0 0h24v24H0V0z\" fill=\"none\"/>\n",
              "    <path d=\"M18.56 5.44l.94 2.06.94-2.06 2.06-.94-2.06-.94-.94-2.06-.94 2.06-2.06.94zm-11 1L8.5 8.5l.94-2.06 2.06-.94-2.06-.94L8.5 2.5l-.94 2.06-2.06.94zm10 10l.94 2.06.94-2.06 2.06-.94-2.06-.94-.94-2.06-.94 2.06-2.06.94z\"/><path d=\"M17.41 7.96l-1.37-1.37c-.4-.4-.92-.59-1.43-.59-.52 0-1.04.2-1.43.59L10.3 9.45l-7.72 7.72c-.78.78-.78 2.05 0 2.83L4 21.41c.39.39.9.59 1.41.59.51 0 1.02-.2 1.41-.59l7.78-7.78 2.81-2.81c.8-.78.8-2.07 0-2.86zM5.41 20L4 18.59l7.72-7.72 1.47 1.35L5.41 20z\"/>\n",
              "  </svg>\n",
              "      </button>\n",
              "      \n",
              "  <style>\n",
              "    .colab-df-container {\n",
              "      display:flex;\n",
              "      flex-wrap:wrap;\n",
              "      gap: 12px;\n",
              "    }\n",
              "\n",
              "    .colab-df-convert {\n",
              "      background-color: #E8F0FE;\n",
              "      border: none;\n",
              "      border-radius: 50%;\n",
              "      cursor: pointer;\n",
              "      display: none;\n",
              "      fill: #1967D2;\n",
              "      height: 32px;\n",
              "      padding: 0 0 0 0;\n",
              "      width: 32px;\n",
              "    }\n",
              "\n",
              "    .colab-df-convert:hover {\n",
              "      background-color: #E2EBFA;\n",
              "      box-shadow: 0px 1px 2px rgba(60, 64, 67, 0.3), 0px 1px 3px 1px rgba(60, 64, 67, 0.15);\n",
              "      fill: #174EA6;\n",
              "    }\n",
              "\n",
              "    [theme=dark] .colab-df-convert {\n",
              "      background-color: #3B4455;\n",
              "      fill: #D2E3FC;\n",
              "    }\n",
              "\n",
              "    [theme=dark] .colab-df-convert:hover {\n",
              "      background-color: #434B5C;\n",
              "      box-shadow: 0px 1px 3px 1px rgba(0, 0, 0, 0.15);\n",
              "      filter: drop-shadow(0px 1px 2px rgba(0, 0, 0, 0.3));\n",
              "      fill: #FFFFFF;\n",
              "    }\n",
              "  </style>\n",
              "\n",
              "      <script>\n",
              "        const buttonEl =\n",
              "          document.querySelector('#df-bf7433b5-ae33-4c8d-951d-f70b992030f4 button.colab-df-convert');\n",
              "        buttonEl.style.display =\n",
              "          google.colab.kernel.accessAllowed ? 'block' : 'none';\n",
              "\n",
              "        async function convertToInteractive(key) {\n",
              "          const element = document.querySelector('#df-bf7433b5-ae33-4c8d-951d-f70b992030f4');\n",
              "          const dataTable =\n",
              "            await google.colab.kernel.invokeFunction('convertToInteractive',\n",
              "                                                     [key], {});\n",
              "          if (!dataTable) return;\n",
              "\n",
              "          const docLinkHtml = 'Like what you see? Visit the ' +\n",
              "            '<a target=\"_blank\" href=https://colab.research.google.com/notebooks/data_table.ipynb>data table notebook</a>'\n",
              "            + ' to learn more about interactive tables.';\n",
              "          element.innerHTML = '';\n",
              "          dataTable['output_type'] = 'display_data';\n",
              "          await google.colab.output.renderOutput(dataTable, element);\n",
              "          const docLink = document.createElement('div');\n",
              "          docLink.innerHTML = docLinkHtml;\n",
              "          element.appendChild(docLink);\n",
              "        }\n",
              "      </script>\n",
              "    </div>\n",
              "  </div>\n",
              "  "
            ]
          },
          "metadata": {},
          "execution_count": 19
        }
      ]
    },
    {
      "cell_type": "code",
      "source": [
        "new_dataset['Class'].value_counts()"
      ],
      "metadata": {
        "colab": {
          "base_uri": "https://localhost:8080/"
        },
        "id": "ASUp54TemnTZ",
        "outputId": "aec8d852-efb7-4eb8-de0a-1f8d823dc571"
      },
      "execution_count": 20,
      "outputs": [
        {
          "output_type": "execute_result",
          "data": {
            "text/plain": [
              "0.0    142\n",
              "1.0    142\n",
              "Name: Class, dtype: int64"
            ]
          },
          "metadata": {},
          "execution_count": 20
        }
      ]
    },
    {
      "cell_type": "code",
      "source": [
        "credit_card_data.groupby('Class').mean()"
      ],
      "metadata": {
        "colab": {
          "base_uri": "https://localhost:8080/",
          "height": 237
        },
        "id": "gNODvZxZm2ao",
        "outputId": "275c7f3f-992b-4e3a-ef06-5495e0ef8b0c"
      },
      "execution_count": 21,
      "outputs": [
        {
          "output_type": "execute_result",
          "data": {
            "text/plain": [
              "               Time       V1        V2         V3        V4        V5  \\\n",
              "Class                                                                   \n",
              "0.0    27549.332857 -0.21371  0.011525   0.732168  0.173212 -0.230885   \n",
              "1.0    26193.556338 -7.87188  5.609155 -10.671851  6.067972 -5.862266   \n",
              "\n",
              "             V6        V7        V8        V9  ...       V20       V21  \\\n",
              "Class                                          ...                       \n",
              "0.0    0.106122 -0.092498  0.041321  0.169777  ...  0.046284 -0.029987   \n",
              "1.0   -2.315720 -8.269674  3.901566 -3.650345  ...  0.486666  0.898581   \n",
              "\n",
              "            V22       V23       V24       V25       V26       V27       V28  \\\n",
              "Class                                                                         \n",
              "0.0   -0.108242 -0.038246  0.009637  0.136319  0.021863  0.003681  0.004547   \n",
              "1.0   -0.250143 -0.300033 -0.079930  0.257712  0.163858  0.596174  0.034797   \n",
              "\n",
              "          Amount  \n",
              "Class             \n",
              "0.0    90.808470  \n",
              "1.0    97.592183  \n",
              "\n",
              "[2 rows x 30 columns]"
            ],
            "text/html": [
              "\n",
              "  <div id=\"df-423f9a21-d989-4292-a0ba-83bfc650825c\">\n",
              "    <div class=\"colab-df-container\">\n",
              "      <div>\n",
              "<style scoped>\n",
              "    .dataframe tbody tr th:only-of-type {\n",
              "        vertical-align: middle;\n",
              "    }\n",
              "\n",
              "    .dataframe tbody tr th {\n",
              "        vertical-align: top;\n",
              "    }\n",
              "\n",
              "    .dataframe thead th {\n",
              "        text-align: right;\n",
              "    }\n",
              "</style>\n",
              "<table border=\"1\" class=\"dataframe\">\n",
              "  <thead>\n",
              "    <tr style=\"text-align: right;\">\n",
              "      <th></th>\n",
              "      <th>Time</th>\n",
              "      <th>V1</th>\n",
              "      <th>V2</th>\n",
              "      <th>V3</th>\n",
              "      <th>V4</th>\n",
              "      <th>V5</th>\n",
              "      <th>V6</th>\n",
              "      <th>V7</th>\n",
              "      <th>V8</th>\n",
              "      <th>V9</th>\n",
              "      <th>...</th>\n",
              "      <th>V20</th>\n",
              "      <th>V21</th>\n",
              "      <th>V22</th>\n",
              "      <th>V23</th>\n",
              "      <th>V24</th>\n",
              "      <th>V25</th>\n",
              "      <th>V26</th>\n",
              "      <th>V27</th>\n",
              "      <th>V28</th>\n",
              "      <th>Amount</th>\n",
              "    </tr>\n",
              "    <tr>\n",
              "      <th>Class</th>\n",
              "      <th></th>\n",
              "      <th></th>\n",
              "      <th></th>\n",
              "      <th></th>\n",
              "      <th></th>\n",
              "      <th></th>\n",
              "      <th></th>\n",
              "      <th></th>\n",
              "      <th></th>\n",
              "      <th></th>\n",
              "      <th></th>\n",
              "      <th></th>\n",
              "      <th></th>\n",
              "      <th></th>\n",
              "      <th></th>\n",
              "      <th></th>\n",
              "      <th></th>\n",
              "      <th></th>\n",
              "      <th></th>\n",
              "      <th></th>\n",
              "      <th></th>\n",
              "    </tr>\n",
              "  </thead>\n",
              "  <tbody>\n",
              "    <tr>\n",
              "      <th>0.0</th>\n",
              "      <td>27549.332857</td>\n",
              "      <td>-0.21371</td>\n",
              "      <td>0.011525</td>\n",
              "      <td>0.732168</td>\n",
              "      <td>0.173212</td>\n",
              "      <td>-0.230885</td>\n",
              "      <td>0.106122</td>\n",
              "      <td>-0.092498</td>\n",
              "      <td>0.041321</td>\n",
              "      <td>0.169777</td>\n",
              "      <td>...</td>\n",
              "      <td>0.046284</td>\n",
              "      <td>-0.029987</td>\n",
              "      <td>-0.108242</td>\n",
              "      <td>-0.038246</td>\n",
              "      <td>0.009637</td>\n",
              "      <td>0.136319</td>\n",
              "      <td>0.021863</td>\n",
              "      <td>0.003681</td>\n",
              "      <td>0.004547</td>\n",
              "      <td>90.808470</td>\n",
              "    </tr>\n",
              "    <tr>\n",
              "      <th>1.0</th>\n",
              "      <td>26193.556338</td>\n",
              "      <td>-7.87188</td>\n",
              "      <td>5.609155</td>\n",
              "      <td>-10.671851</td>\n",
              "      <td>6.067972</td>\n",
              "      <td>-5.862266</td>\n",
              "      <td>-2.315720</td>\n",
              "      <td>-8.269674</td>\n",
              "      <td>3.901566</td>\n",
              "      <td>-3.650345</td>\n",
              "      <td>...</td>\n",
              "      <td>0.486666</td>\n",
              "      <td>0.898581</td>\n",
              "      <td>-0.250143</td>\n",
              "      <td>-0.300033</td>\n",
              "      <td>-0.079930</td>\n",
              "      <td>0.257712</td>\n",
              "      <td>0.163858</td>\n",
              "      <td>0.596174</td>\n",
              "      <td>0.034797</td>\n",
              "      <td>97.592183</td>\n",
              "    </tr>\n",
              "  </tbody>\n",
              "</table>\n",
              "<p>2 rows × 30 columns</p>\n",
              "</div>\n",
              "      <button class=\"colab-df-convert\" onclick=\"convertToInteractive('df-423f9a21-d989-4292-a0ba-83bfc650825c')\"\n",
              "              title=\"Convert this dataframe to an interactive table.\"\n",
              "              style=\"display:none;\">\n",
              "        \n",
              "  <svg xmlns=\"http://www.w3.org/2000/svg\" height=\"24px\"viewBox=\"0 0 24 24\"\n",
              "       width=\"24px\">\n",
              "    <path d=\"M0 0h24v24H0V0z\" fill=\"none\"/>\n",
              "    <path d=\"M18.56 5.44l.94 2.06.94-2.06 2.06-.94-2.06-.94-.94-2.06-.94 2.06-2.06.94zm-11 1L8.5 8.5l.94-2.06 2.06-.94-2.06-.94L8.5 2.5l-.94 2.06-2.06.94zm10 10l.94 2.06.94-2.06 2.06-.94-2.06-.94-.94-2.06-.94 2.06-2.06.94z\"/><path d=\"M17.41 7.96l-1.37-1.37c-.4-.4-.92-.59-1.43-.59-.52 0-1.04.2-1.43.59L10.3 9.45l-7.72 7.72c-.78.78-.78 2.05 0 2.83L4 21.41c.39.39.9.59 1.41.59.51 0 1.02-.2 1.41-.59l7.78-7.78 2.81-2.81c.8-.78.8-2.07 0-2.86zM5.41 20L4 18.59l7.72-7.72 1.47 1.35L5.41 20z\"/>\n",
              "  </svg>\n",
              "      </button>\n",
              "      \n",
              "  <style>\n",
              "    .colab-df-container {\n",
              "      display:flex;\n",
              "      flex-wrap:wrap;\n",
              "      gap: 12px;\n",
              "    }\n",
              "\n",
              "    .colab-df-convert {\n",
              "      background-color: #E8F0FE;\n",
              "      border: none;\n",
              "      border-radius: 50%;\n",
              "      cursor: pointer;\n",
              "      display: none;\n",
              "      fill: #1967D2;\n",
              "      height: 32px;\n",
              "      padding: 0 0 0 0;\n",
              "      width: 32px;\n",
              "    }\n",
              "\n",
              "    .colab-df-convert:hover {\n",
              "      background-color: #E2EBFA;\n",
              "      box-shadow: 0px 1px 2px rgba(60, 64, 67, 0.3), 0px 1px 3px 1px rgba(60, 64, 67, 0.15);\n",
              "      fill: #174EA6;\n",
              "    }\n",
              "\n",
              "    [theme=dark] .colab-df-convert {\n",
              "      background-color: #3B4455;\n",
              "      fill: #D2E3FC;\n",
              "    }\n",
              "\n",
              "    [theme=dark] .colab-df-convert:hover {\n",
              "      background-color: #434B5C;\n",
              "      box-shadow: 0px 1px 3px 1px rgba(0, 0, 0, 0.15);\n",
              "      filter: drop-shadow(0px 1px 2px rgba(0, 0, 0, 0.3));\n",
              "      fill: #FFFFFF;\n",
              "    }\n",
              "  </style>\n",
              "\n",
              "      <script>\n",
              "        const buttonEl =\n",
              "          document.querySelector('#df-423f9a21-d989-4292-a0ba-83bfc650825c button.colab-df-convert');\n",
              "        buttonEl.style.display =\n",
              "          google.colab.kernel.accessAllowed ? 'block' : 'none';\n",
              "\n",
              "        async function convertToInteractive(key) {\n",
              "          const element = document.querySelector('#df-423f9a21-d989-4292-a0ba-83bfc650825c');\n",
              "          const dataTable =\n",
              "            await google.colab.kernel.invokeFunction('convertToInteractive',\n",
              "                                                     [key], {});\n",
              "          if (!dataTable) return;\n",
              "\n",
              "          const docLinkHtml = 'Like what you see? Visit the ' +\n",
              "            '<a target=\"_blank\" href=https://colab.research.google.com/notebooks/data_table.ipynb>data table notebook</a>'\n",
              "            + ' to learn more about interactive tables.';\n",
              "          element.innerHTML = '';\n",
              "          dataTable['output_type'] = 'display_data';\n",
              "          await google.colab.output.renderOutput(dataTable, element);\n",
              "          const docLink = document.createElement('div');\n",
              "          docLink.innerHTML = docLinkHtml;\n",
              "          element.appendChild(docLink);\n",
              "        }\n",
              "      </script>\n",
              "    </div>\n",
              "  </div>\n",
              "  "
            ]
          },
          "metadata": {},
          "execution_count": 21
        }
      ]
    },
    {
      "cell_type": "markdown",
      "source": [
        "Here in the above output we see that the mean of both legit and fraud class remain almost similar . This is good because it means that the sample dataset we have made is good . If the values would have changed drastically then the sample dataset we made is bad."
      ],
      "metadata": {
        "id": "isUUeigGnHQd"
      }
    },
    {
      "cell_type": "markdown",
      "source": [
        "Splitting the data into features and Targets"
      ],
      "metadata": {
        "id": "sNGjgBHonjmL"
      }
    },
    {
      "cell_type": "code",
      "source": [
        "X= new_dataset.drop(columns='Class', axis =1)\n",
        "Y=new_dataset['Class']"
      ],
      "metadata": {
        "id": "RAiRJ-AUnCGU"
      },
      "execution_count": 22,
      "outputs": []
    },
    {
      "cell_type": "code",
      "source": [
        "print(X)"
      ],
      "metadata": {
        "colab": {
          "base_uri": "https://localhost:8080/"
        },
        "id": "LPeNVLfBn4TK",
        "outputId": "24b0d4a9-dfbc-48b0-a6fd-013a96ee9b7e"
      },
      "execution_count": 23,
      "outputs": [
        {
          "output_type": "stream",
          "name": "stdout",
          "text": [
            "        Time         V1        V2         V3        V4         V5        V6  \\\n",
            "32814  36975   1.230372  0.203217   0.628537  0.927927  -0.245080 -0.122833   \n",
            "35152  37989   0.800326 -1.427396  -0.097453 -0.529858  -1.134342 -0.491852   \n",
            "10736  18209   1.128457 -0.375890   1.115064 -0.629260  -1.014822 -0.099195   \n",
            "13776  24430   0.899154 -0.293818   1.404180  1.911761  -0.735406  0.873092   \n",
            "34819  37838   0.847612 -1.718757   0.135955 -0.277621  -1.195311  0.245979   \n",
            "...      ...        ...       ...        ...       ...        ...       ...   \n",
            "44091  41791  -7.222731  6.155773 -10.826460  4.180779  -6.123555 -3.114136   \n",
            "44223  41851 -19.139733  9.286847 -20.134992  7.818673 -15.652208 -1.668348   \n",
            "44270  41870 -20.906908  9.843153 -19.947726  6.155789 -15.142013 -2.239566   \n",
            "44556  41991  -4.566342  3.353451  -4.572028  3.616119  -2.493138 -1.090000   \n",
            "45203  42247  -2.524012  2.098152  -4.946075  6.456588   3.173921 -3.058806   \n",
            "\n",
            "              V7        V8        V9  ...       V20       V21       V22  \\\n",
            "32814  -0.205121 -0.057064  0.242158  ... -0.001821 -0.092530 -0.224401   \n",
            "35152  -0.077162 -0.158231 -1.159454  ...  0.143141 -0.381142 -1.364600   \n",
            "10736  -0.838243  0.165208  2.852007  ... -0.184448 -0.065429  0.273490   \n",
            "13776  -0.631272  0.314374  2.241765  ... -0.109568 -0.460196 -0.781822   \n",
            "34819  -0.498281 -0.061618  0.036444  ...  0.699999  0.191561  0.140933   \n",
            "...          ...       ...       ...  ...       ...       ...       ...   \n",
            "44091  -6.895112  5.161516 -2.516477  ...  0.818859  0.912700 -0.630358   \n",
            "44223 -21.340478  0.641900 -8.550110  ...  0.427203 -2.182692  0.520543   \n",
            "44270 -21.234463  1.151795 -8.739670  ...  0.396655 -1.977196  0.652932   \n",
            "44556  -5.551433  0.447783 -2.424414  ... -0.249128  2.674466 -0.020880   \n",
            "45203  -0.184710 -0.390420 -3.649812  ... -0.162797  0.027935  0.220366   \n",
            "\n",
            "            V23       V24       V25       V26       V27       V28  Amount  \n",
            "32814 -0.070891 -0.457773  0.462475 -0.464653  0.052381  0.033410   19.40  \n",
            "35152 -0.124683  0.002303 -0.039697  0.788610 -0.121898  0.048514  306.00  \n",
            "10736  0.010652  0.183281  0.337615 -0.726158  0.076749  0.018898   11.85  \n",
            "13776  0.049830  0.163669  0.324016 -0.585072  0.049348  0.025677   75.99  \n",
            "34819 -0.501126 -0.488584  0.670835 -0.064686 -0.016206  0.058418  309.60  \n",
            "...         ...       ...       ...       ...       ...       ...     ...  \n",
            "44091  0.190887 -0.061263  0.379775 -0.266845  1.193695  0.257468   99.99  \n",
            "44223 -0.760556  0.662767 -0.948454  0.121796 -3.381843 -1.256524  139.90  \n",
            "44270 -0.519777  0.541702 -0.053861  0.112671 -3.765371 -1.071238    1.00  \n",
            "44556 -0.302447 -0.086396 -0.516060 -0.295102  0.195985  0.141115    1.00  \n",
            "45203  0.976348 -0.290539  1.161002  0.663954  0.456023 -0.405682    1.00  \n",
            "\n",
            "[284 rows x 30 columns]\n"
          ]
        }
      ]
    },
    {
      "cell_type": "code",
      "source": [
        "print (Y)"
      ],
      "metadata": {
        "colab": {
          "base_uri": "https://localhost:8080/"
        },
        "id": "clM8OveZn56E",
        "outputId": "d84b5d7c-2233-4d94-8275-6f62a05855e9"
      },
      "execution_count": 24,
      "outputs": [
        {
          "output_type": "stream",
          "name": "stdout",
          "text": [
            "32814    0.0\n",
            "35152    0.0\n",
            "10736    0.0\n",
            "13776    0.0\n",
            "34819    0.0\n",
            "        ... \n",
            "44091    1.0\n",
            "44223    1.0\n",
            "44270    1.0\n",
            "44556    1.0\n",
            "45203    1.0\n",
            "Name: Class, Length: 284, dtype: float64\n"
          ]
        }
      ]
    },
    {
      "cell_type": "markdown",
      "source": [
        "Split the data into Training data & Testing data"
      ],
      "metadata": {
        "id": "7HZgw_ZGoAL6"
      }
    },
    {
      "cell_type": "code",
      "source": [
        "X_train , X_test, Y_train, Y_test = train_test_split(X, Y, test_size=0.2, stratify = Y, random_state =2)\n",
        "# stratify = Y distibutes the class 0 & 1 quite equally in test data and train data otherwise it would have been a very unequal distribution."
      ],
      "metadata": {
        "id": "F84ronF2n-Jk"
      },
      "execution_count": 25,
      "outputs": []
    },
    {
      "cell_type": "code",
      "source": [
        "print (X.shape, X_train.shape , X_test.shape)"
      ],
      "metadata": {
        "colab": {
          "base_uri": "https://localhost:8080/"
        },
        "id": "kVG4Zv7so9R-",
        "outputId": "36c98ebb-d40c-42f5-d8ec-9648c330e769"
      },
      "execution_count": 26,
      "outputs": [
        {
          "output_type": "stream",
          "name": "stdout",
          "text": [
            "(284, 30) (227, 30) (57, 30)\n"
          ]
        }
      ]
    },
    {
      "cell_type": "markdown",
      "source": [
        "Model Training"
      ],
      "metadata": {
        "id": "xWLGRfHWpL6R"
      }
    },
    {
      "cell_type": "markdown",
      "source": [
        "Logistic Regression"
      ],
      "metadata": {
        "id": "o26k-C8KpPRD"
      }
    },
    {
      "cell_type": "markdown",
      "source": [
        "Generally Logistic Regression is better for Binary Classification"
      ],
      "metadata": {
        "id": "fN_AktFUpSNn"
      }
    },
    {
      "cell_type": "code",
      "source": [
        "model = LogisticRegression(solver='lbfgs', max_iter=1000)"
      ],
      "metadata": {
        "id": "hBM7ww8lpHIj"
      },
      "execution_count": 30,
      "outputs": []
    },
    {
      "cell_type": "code",
      "source": [
        "# training the Logistic Regression Model with Training Data\n",
        "model.fit(X_train, Y_train)"
      ],
      "metadata": {
        "colab": {
          "base_uri": "https://localhost:8080/",
          "height": 74
        },
        "id": "pnV9gJ9ZpfIB",
        "outputId": "fd533578-9c95-43a2-bad7-03159fcd28c1"
      },
      "execution_count": 31,
      "outputs": [
        {
          "output_type": "execute_result",
          "data": {
            "text/plain": [
              "LogisticRegression(max_iter=1000)"
            ],
            "text/html": [
              "<style>#sk-container-id-2 {color: black;background-color: white;}#sk-container-id-2 pre{padding: 0;}#sk-container-id-2 div.sk-toggleable {background-color: white;}#sk-container-id-2 label.sk-toggleable__label {cursor: pointer;display: block;width: 100%;margin-bottom: 0;padding: 0.3em;box-sizing: border-box;text-align: center;}#sk-container-id-2 label.sk-toggleable__label-arrow:before {content: \"▸\";float: left;margin-right: 0.25em;color: #696969;}#sk-container-id-2 label.sk-toggleable__label-arrow:hover:before {color: black;}#sk-container-id-2 div.sk-estimator:hover label.sk-toggleable__label-arrow:before {color: black;}#sk-container-id-2 div.sk-toggleable__content {max-height: 0;max-width: 0;overflow: hidden;text-align: left;background-color: #f0f8ff;}#sk-container-id-2 div.sk-toggleable__content pre {margin: 0.2em;color: black;border-radius: 0.25em;background-color: #f0f8ff;}#sk-container-id-2 input.sk-toggleable__control:checked~div.sk-toggleable__content {max-height: 200px;max-width: 100%;overflow: auto;}#sk-container-id-2 input.sk-toggleable__control:checked~label.sk-toggleable__label-arrow:before {content: \"▾\";}#sk-container-id-2 div.sk-estimator input.sk-toggleable__control:checked~label.sk-toggleable__label {background-color: #d4ebff;}#sk-container-id-2 div.sk-label input.sk-toggleable__control:checked~label.sk-toggleable__label {background-color: #d4ebff;}#sk-container-id-2 input.sk-hidden--visually {border: 0;clip: rect(1px 1px 1px 1px);clip: rect(1px, 1px, 1px, 1px);height: 1px;margin: -1px;overflow: hidden;padding: 0;position: absolute;width: 1px;}#sk-container-id-2 div.sk-estimator {font-family: monospace;background-color: #f0f8ff;border: 1px dotted black;border-radius: 0.25em;box-sizing: border-box;margin-bottom: 0.5em;}#sk-container-id-2 div.sk-estimator:hover {background-color: #d4ebff;}#sk-container-id-2 div.sk-parallel-item::after {content: \"\";width: 100%;border-bottom: 1px solid gray;flex-grow: 1;}#sk-container-id-2 div.sk-label:hover label.sk-toggleable__label {background-color: #d4ebff;}#sk-container-id-2 div.sk-serial::before {content: \"\";position: absolute;border-left: 1px solid gray;box-sizing: border-box;top: 0;bottom: 0;left: 50%;z-index: 0;}#sk-container-id-2 div.sk-serial {display: flex;flex-direction: column;align-items: center;background-color: white;padding-right: 0.2em;padding-left: 0.2em;position: relative;}#sk-container-id-2 div.sk-item {position: relative;z-index: 1;}#sk-container-id-2 div.sk-parallel {display: flex;align-items: stretch;justify-content: center;background-color: white;position: relative;}#sk-container-id-2 div.sk-item::before, #sk-container-id-2 div.sk-parallel-item::before {content: \"\";position: absolute;border-left: 1px solid gray;box-sizing: border-box;top: 0;bottom: 0;left: 50%;z-index: -1;}#sk-container-id-2 div.sk-parallel-item {display: flex;flex-direction: column;z-index: 1;position: relative;background-color: white;}#sk-container-id-2 div.sk-parallel-item:first-child::after {align-self: flex-end;width: 50%;}#sk-container-id-2 div.sk-parallel-item:last-child::after {align-self: flex-start;width: 50%;}#sk-container-id-2 div.sk-parallel-item:only-child::after {width: 0;}#sk-container-id-2 div.sk-dashed-wrapped {border: 1px dashed gray;margin: 0 0.4em 0.5em 0.4em;box-sizing: border-box;padding-bottom: 0.4em;background-color: white;}#sk-container-id-2 div.sk-label label {font-family: monospace;font-weight: bold;display: inline-block;line-height: 1.2em;}#sk-container-id-2 div.sk-label-container {text-align: center;}#sk-container-id-2 div.sk-container {/* jupyter's `normalize.less` sets `[hidden] { display: none; }` but bootstrap.min.css set `[hidden] { display: none !important; }` so we also need the `!important` here to be able to override the default hidden behavior on the sphinx rendered scikit-learn.org. See: https://github.com/scikit-learn/scikit-learn/issues/21755 */display: inline-block !important;position: relative;}#sk-container-id-2 div.sk-text-repr-fallback {display: none;}</style><div id=\"sk-container-id-2\" class=\"sk-top-container\"><div class=\"sk-text-repr-fallback\"><pre>LogisticRegression(max_iter=1000)</pre><b>In a Jupyter environment, please rerun this cell to show the HTML representation or trust the notebook. <br />On GitHub, the HTML representation is unable to render, please try loading this page with nbviewer.org.</b></div><div class=\"sk-container\" hidden><div class=\"sk-item\"><div class=\"sk-estimator sk-toggleable\"><input class=\"sk-toggleable__control sk-hidden--visually\" id=\"sk-estimator-id-2\" type=\"checkbox\" checked><label for=\"sk-estimator-id-2\" class=\"sk-toggleable__label sk-toggleable__label-arrow\">LogisticRegression</label><div class=\"sk-toggleable__content\"><pre>LogisticRegression(max_iter=1000)</pre></div></div></div></div></div>"
            ]
          },
          "metadata": {},
          "execution_count": 31
        }
      ]
    },
    {
      "cell_type": "markdown",
      "source": [
        "Model Evaluation"
      ],
      "metadata": {
        "id": "VgyZd6x3qdv2"
      }
    },
    {
      "cell_type": "markdown",
      "source": [
        "Accuracy Score"
      ],
      "metadata": {
        "id": "80sPvz_pqgOP"
      }
    },
    {
      "cell_type": "code",
      "source": [
        "# accuracy on training data\n",
        "X_train_prediction = model.predict(X_train)\n",
        "training_data_accuracy=accuracy_score(X_train_prediction , Y_train)\n"
      ],
      "metadata": {
        "id": "GmjVmP1zpndp"
      },
      "execution_count": 32,
      "outputs": []
    },
    {
      "cell_type": "code",
      "source": [
        "print('Accuracy on Training Data :' ,training_data_accuracy  )"
      ],
      "metadata": {
        "colab": {
          "base_uri": "https://localhost:8080/"
        },
        "id": "PAUOS71ErGSv",
        "outputId": "64edfa4e-3bba-4136-ad96-3a5f2efafa89"
      },
      "execution_count": 33,
      "outputs": [
        {
          "output_type": "stream",
          "name": "stdout",
          "text": [
            "Accuracy on Training Data : 0.986784140969163\n"
          ]
        }
      ]
    },
    {
      "cell_type": "code",
      "source": [
        "# accuracy on testing data\n",
        "X_test_prediction = model.predict(X_test)\n",
        "testing_data_accuracy=accuracy_score(X_test_prediction , Y_test)\n"
      ],
      "metadata": {
        "id": "Zftnxo4RrYNI"
      },
      "execution_count": 34,
      "outputs": []
    },
    {
      "cell_type": "code",
      "source": [
        "print('Accuracy on Testing Data :' ,testing_data_accuracy  )"
      ],
      "metadata": {
        "colab": {
          "base_uri": "https://localhost:8080/"
        },
        "id": "0mpf4x2OrunY",
        "outputId": "ff445aa3-1bb9-4cba-ff44-0f2c38454b39"
      },
      "execution_count": 35,
      "outputs": [
        {
          "output_type": "stream",
          "name": "stdout",
          "text": [
            "Accuracy on Testing Data : 0.9824561403508771\n"
          ]
        }
      ]
    },
    {
      "cell_type": "markdown",
      "source": [
        "The accuracy on training data and testing data is quite similar . If both were different then the model was either overfitted or Underfitted. If the training accuracy is very high and testing accuracy is low then it means the model is overfitted and if training accuracy is low and testing accuracy is high then it means our model is underfitted (over generalisation has taken place)."
      ],
      "metadata": {
        "id": "9VCdY4G9sauK"
      }
    },
    {
      "cell_type": "code",
      "source": [],
      "metadata": {
        "id": "yOjlC3a5r0rS"
      },
      "execution_count": null,
      "outputs": []
    }
  ]
}